{
  "nbformat": 4,
  "nbformat_minor": 0,
  "metadata": {
    "colab": {
      "provenance": []
    },
    "kernelspec": {
      "name": "python3",
      "display_name": "Python 3"
    },
    "language_info": {
      "name": "python"
    }
  },
  "cells": [
    {
      "cell_type": "markdown",
      "source": [
        "<h1 style=\"text-align:center\">FORECASTING RNN</h1>"
      ],
      "metadata": {
        "id": "f4EQ8Cv1pWeC"
      }
    },
    {
      "cell_type": "markdown",
      "source": [
        "NAMA : GAYUH FIKRI KHUSNAELI\n",
        "\n",
        "NIM : 21110024"
      ],
      "metadata": {
        "id": "BcR5ua6epZ_F"
      }
    },
    {
      "cell_type": "code",
      "source": [
        "from google.colab import drive\n",
        "drive.mount('/content/drive')"
      ],
      "metadata": {
        "colab": {
          "base_uri": "https://localhost:8080/"
        },
        "id": "mLP0Q_q0jdLv",
        "outputId": "95a44672-7595-4d56-a451-f918c5642127"
      },
      "execution_count": null,
      "outputs": [
        {
          "output_type": "stream",
          "name": "stdout",
          "text": [
            "Drive already mounted at /content/drive; to attempt to forcibly remount, call drive.mount(\"/content/drive\", force_remount=True).\n"
          ]
        }
      ]
    },
    {
      "cell_type": "code",
      "execution_count": null,
      "metadata": {
        "id": "AQ14a9l5jRlc"
      },
      "outputs": [],
      "source": [
        "import pandas as pd\n",
        "import numpy as np\n",
        "import matplotlib.pyplot as plt,."
      ]
    },
    {
      "cell_type": "code",
      "source": [
        "# Mengimport kelas Tokenizer dari modul tensorflow.keras.preprocessing.text\n",
        "# Digunakan untuk membuat kamus per kata dari teks yang ada\n",
        "from tensorflow.keras.preprocessing.text import Tokenizer\n",
        "\n",
        "# Mengimport kelas pad_sequences dari modul tensorflow.keras.preprocessing.sequence\n",
        "# Digunakan untuk menambahkan padding pada data sequence\n",
        "from tensorflow.keras.preprocessing.sequence import pad_sequences\n",
        "\n",
        "# Mengimport modul Sequential dari library keras\n",
        "# Digunakan untuk membuat model neural network secara berurutan\n",
        "from keras.models import Sequential\n",
        "\n",
        "# Mengimport kelas Dense, GRU, dan TimeDistributed dari library keras.layers\n",
        "# Dense: Digunakan untuk menambahkan lapisan dense (fully connected) pada model\n",
        "# GRU: Digunakan untuk menambahkan lapisan Gated Recurrent Unit pada model\n",
        "# TimeDistributed: Digunakan untuk mengaplikasikan lapisan ke setiap langkah waktu dalam input sequence\n",
        "from keras.layers import Dense, GRU, TimeDistributed"
      ],
      "metadata": {
        "id": "xccfCnSijX5p"
      },
      "execution_count": null,
      "outputs": []
    },
    {
      "cell_type": "code",
      "source": [
        "#Membuat variabel 'bhs_x' dan 'bhs_y' dari data yang ada di google drive\n",
        "bhs_x= pd.read_fwf('/content/drive/MyDrive/COLLEGE/SEMESTER 5/DEEP LEARNING/10. (05 Dec 23 )RNN/bahasa_uh.txt', header=None, delimiter='\\t').values[:,0]\n",
        "bhs_y= pd.read_fwf('/content/drive/MyDrive/COLLEGE/SEMESTER 5/DEEP LEARNING/10. (05 Dec 23 )RNN/bahasa_ah.txt', header=None, delimiter='\\t').values[:,0]"
      ],
      "metadata": {
        "id": "4uUStSF5kFim"
      },
      "execution_count": null,
      "outputs": []
    },
    {
      "cell_type": "code",
      "source": [
        "bhs_x"
      ],
      "metadata": {
        "colab": {
          "base_uri": "https://localhost:8080/"
        },
        "id": "z3ER_r8WlJvK",
        "outputId": "9f84c96d-1dbd-4cdc-c4de-cbd156387ddc"
      },
      "execution_count": null,
      "outputs": [
        {
          "output_type": "execute_result",
          "data": {
            "text/plain": [
              "array(['ih uh eh ah ah uh uh ah oh uh eh oh oh oh eh ih eh ih uh eh',\n",
              "       'ah ih uh ih ih ih ah oh uh uh eh ah ih ih eh uh uh oh oh oh',\n",
              "       'ih ih uh ih ih eh uh ih oh ah ih ih uh eh eh oh ah ih ih ih', ...,\n",
              "       'uh ah eh uh eh ah ih eh ih eh ah uh ah uh oh ah eh ih ah ih',\n",
              "       'ah eh ih ah ih oh uh ih oh uh oh oh eh ah uh uh ih eh ah eh',\n",
              "       'ah eh eh oh ah ah oh eh ah ih eh ih ih ah ah ah ah ih eh uh'],\n",
              "      dtype=object)"
            ]
          },
          "metadata": {},
          "execution_count": 47
        }
      ]
    },
    {
      "cell_type": "code",
      "source": [
        "bhs_y"
      ],
      "metadata": {
        "colab": {
          "base_uri": "https://localhost:8080/"
        },
        "id": "hjVy8HXHlL94",
        "outputId": "08d83ff6-9a06-4efe-e7e6-3d3c9f52f79a"
      },
      "execution_count": null,
      "outputs": [
        {
          "output_type": "execute_result",
          "data": {
            "text/plain": [
              "array(['ih uh eh ah ahh uhh uhhh ahhh oh uhhhh ehh ohh ohhh ohhhh ehhh ihh ehhhh ihhh uhhhhh ehhhhh',\n",
              "       'ah ih uh ihh ihhh ihhhh ahh oh uhh uhhh eh ahhh ihhhhh ihhhhhh ehh uhhhh uhhhhh ohh ohhh ohhhh',\n",
              "       'ih ihh uh ihhh ihhhh eh uhh ihhhhh oh ah ihhhhhh ihhhhhhh uhhh ehh ehhh ohh ahh ihhhhhhhh ihhhhhhhhh ihhhhhhhhhh',\n",
              "       ...,\n",
              "       'uh ah eh uhh ehh ahh ih ehhh ihh ehhhh ahhh uhhh ahhhh uhhhh oh ahhhhh ehhhhh ihhh ahhhhhh ihhhh',\n",
              "       'ah eh ih ahh ihh oh uh ihhh ohh uhh ohhh ohhhh ehh ahhh uhhh uhhhh ihhhh ehhh ahhhh ehhhh',\n",
              "       'ah eh ehh oh ahh ahhh ohh ehhh ahhhh ih ehhhh ihh ihhh ahhhhh ahhhhhh ahhhhhhh ahhhhhhhh ihhhh ehhhhh uh'],\n",
              "      dtype=object)"
            ]
          },
          "metadata": {},
          "execution_count": 48
        }
      ]
    },
    {
      "cell_type": "code",
      "source": [
        "#Ini untuk membangun kamus bahasa uh\n",
        "token_uh = Tokenizer()\n",
        "token_uh.fit_on_texts(bhs_x) #memasukan data yang akan di tokenizer\n",
        "kosakata_x = len(token_uh.word_index)\n",
        "\n",
        "v_bhs_x = token_uh.texts_to_sequences(bhs_x)\n",
        "v_bhs_x = pad_sequences(v_bhs_x, maxlen=20, padding='post')\n",
        "v_bhs_x = v_bhs_x.reshape(v_bhs_x.shape[0], v_bhs_x.shape[1], 1)\n",
        "\n",
        "#Ini untuk membangun kamus bahasa ah\n",
        "token_ah = Tokenizer()\n",
        "token_ah.fit_on_texts(bhs_y)\n",
        "kosakata_y = len(token_ah.word_index)\n",
        "\n",
        "v_bhs_y = token_ah.texts_to_sequences(bhs_y)\n",
        "v_bhs_y = pad_sequences(v_bhs_y, maxlen=20, padding='post')\n",
        "v_bhs_y = v_bhs_y.reshape(v_bhs_y.shape[0], v_bhs_y.shape[1], 1)"
      ],
      "metadata": {
        "id": "SqLEU7lhlZNe"
      },
      "execution_count": null,
      "outputs": []
    },
    {
      "cell_type": "code",
      "source": [
        "kosakata_y"
      ],
      "metadata": {
        "colab": {
          "base_uri": "https://localhost:8080/"
        },
        "id": "ZVA2j8RArz1A",
        "outputId": "fb6678b5-446e-423e-fccc-d4c6b347e3ca"
      },
      "execution_count": null,
      "outputs": [
        {
          "output_type": "execute_result",
          "data": {
            "text/plain": [
              "57"
            ]
          },
          "metadata": {},
          "execution_count": 58
        }
      ]
    },
    {
      "cell_type": "code",
      "source": [
        "token_uh.word_index"
      ],
      "metadata": {
        "colab": {
          "base_uri": "https://localhost:8080/"
        },
        "id": "HlFDEcbXnFB5",
        "outputId": "ae8a8dab-ca3f-427d-f21b-f65335ea6114"
      },
      "execution_count": null,
      "outputs": [
        {
          "output_type": "execute_result",
          "data": {
            "text/plain": [
              "{'uh': 1, 'eh': 2, 'oh': 3, 'ih': 4, 'ah': 5}"
            ]
          },
          "metadata": {},
          "execution_count": 50
        }
      ]
    },
    {
      "cell_type": "code",
      "source": [
        "token_uh.texts_to_sequences(['ih', 'uh', 'oh'])"
      ],
      "metadata": {
        "colab": {
          "base_uri": "https://localhost:8080/"
        },
        "id": "mNE3gkIVof2U",
        "outputId": "72cd0991-75a9-45d8-cb67-4109a7a014f3"
      },
      "execution_count": null,
      "outputs": [
        {
          "output_type": "execute_result",
          "data": {
            "text/plain": [
              "[[4], [1], [3]]"
            ]
          },
          "metadata": {},
          "execution_count": 51
        }
      ]
    },
    {
      "cell_type": "code",
      "source": [
        "token_uh.sequences_to_texts([[4,3,1]])"
      ],
      "metadata": {
        "colab": {
          "base_uri": "https://localhost:8080/"
        },
        "id": "BTbOiewLo-Fq",
        "outputId": "04eebbe1-0f81-484e-b441-4645fc845b93"
      },
      "execution_count": null,
      "outputs": [
        {
          "output_type": "execute_result",
          "data": {
            "text/plain": [
              "['ih oh uh']"
            ]
          },
          "metadata": {},
          "execution_count": 52
        }
      ]
    },
    {
      "cell_type": "code",
      "source": [
        "pad_sequences([[1, 2, 3]], maxlen=10, padding='post')"
      ],
      "metadata": {
        "colab": {
          "base_uri": "https://localhost:8080/"
        },
        "id": "dHeh96u8pV1s",
        "outputId": "34d8b45d-bd83-44ba-89ff-453617b56385"
      },
      "execution_count": null,
      "outputs": [
        {
          "output_type": "execute_result",
          "data": {
            "text/plain": [
              "array([[1, 2, 3, 0, 0, 0, 0, 0, 0, 0]], dtype=int32)"
            ]
          },
          "metadata": {},
          "execution_count": 53
        }
      ]
    },
    {
      "cell_type": "code",
      "source": [
        "bhs_x.shape"
      ],
      "metadata": {
        "colab": {
          "base_uri": "https://localhost:8080/"
        },
        "id": "phzmLLDlqBS6",
        "outputId": "2e58665d-0eac-4624-af6f-5bf5ec2bc99d"
      },
      "execution_count": null,
      "outputs": [
        {
          "output_type": "execute_result",
          "data": {
            "text/plain": [
              "(10000,)"
            ]
          },
          "metadata": {},
          "execution_count": 54
        }
      ]
    },
    {
      "cell_type": "code",
      "source": [
        "v_bhs_x.shape"
      ],
      "metadata": {
        "colab": {
          "base_uri": "https://localhost:8080/"
        },
        "id": "dKJmlP5KqC3a",
        "outputId": "c2825911-fe46-4c77-b1de-ea579d4d52a8"
      },
      "execution_count": null,
      "outputs": [
        {
          "output_type": "execute_result",
          "data": {
            "text/plain": [
              "(10000, 20, 1)"
            ]
          },
          "metadata": {},
          "execution_count": 55
        }
      ]
    },
    {
      "cell_type": "code",
      "source": [
        "token_ah.word_index"
      ],
      "metadata": {
        "colab": {
          "base_uri": "https://localhost:8080/"
        },
        "id": "3ZyHvD5NoXBs",
        "outputId": "a54c82c3-bacf-4363-eccc-df962bd5a365"
      },
      "execution_count": null,
      "outputs": [
        {
          "output_type": "execute_result",
          "data": {
            "text/plain": [
              "{'eh': 1,\n",
              " 'uh': 2,\n",
              " 'oh': 3,\n",
              " 'ah': 4,\n",
              " 'ih': 5,\n",
              " 'ehh': 6,\n",
              " 'ohh': 7,\n",
              " 'ahh': 8,\n",
              " 'uhh': 9,\n",
              " 'ihh': 10,\n",
              " 'ehhh': 11,\n",
              " 'ohhh': 12,\n",
              " 'uhhh': 13,\n",
              " 'ahhh': 14,\n",
              " 'ihhh': 15,\n",
              " 'ohhhh': 16,\n",
              " 'ehhhh': 17,\n",
              " 'ihhhh': 18,\n",
              " 'ahhhh': 19,\n",
              " 'uhhhh': 20,\n",
              " 'uhhhhh': 21,\n",
              " 'ihhhhh': 22,\n",
              " 'ohhhhh': 23,\n",
              " 'ehhhhh': 24,\n",
              " 'ahhhhh': 25,\n",
              " 'uhhhhhh': 26,\n",
              " 'ohhhhhh': 27,\n",
              " 'ehhhhhh': 28,\n",
              " 'ihhhhhh': 29,\n",
              " 'ahhhhhh': 30,\n",
              " 'uhhhhhhh': 31,\n",
              " 'ehhhhhhh': 32,\n",
              " 'ahhhhhhh': 33,\n",
              " 'ohhhhhhh': 34,\n",
              " 'ihhhhhhh': 35,\n",
              " 'uhhhhhhhh': 36,\n",
              " 'ohhhhhhhh': 37,\n",
              " 'ahhhhhhhh': 38,\n",
              " 'ihhhhhhhh': 39,\n",
              " 'ehhhhhhhh': 40,\n",
              " 'uhhhhhhhhh': 41,\n",
              " 'ehhhhhhhhh': 42,\n",
              " 'ahhhhhhhhh': 43,\n",
              " 'ohhhhhhhhh': 44,\n",
              " 'ihhhhhhhhh': 45,\n",
              " 'ahhhhhhhhhh': 46,\n",
              " 'uhhhhhhhhhh': 47,\n",
              " 'ehhhhhhhhhh': 48,\n",
              " 'ihhhhhhhhhh': 49,\n",
              " 'ohhhhhhhhhh': 50,\n",
              " 'ahhhhhhhhhhh': 51,\n",
              " 'i': 52,\n",
              " 'ehhhhhhhhhhh': 53,\n",
              " 'uhhhhhhhhhhh': 54,\n",
              " 'o': 55,\n",
              " 'ohhhhhhhhhhh': 56,\n",
              " 'a': 57}"
            ]
          },
          "metadata": {},
          "execution_count": 56
        }
      ]
    },
    {
      "cell_type": "code",
      "source": [
        "model = Sequential()\n",
        "\n",
        "model.add(GRU(32, input_shape=v_bhs_x.shape[1:], return_sequences=True))\n",
        "model.add(TimeDistributed(Dense(64, activation='relu')))\n",
        "model.add(TimeDistributed(Dense(kosakata_y+1, activation='softmax')))\n",
        "\n",
        "model.compile(optimizer='adam', loss='sparse_categorical_crossentropy', metrics=['accuracy'])"
      ],
      "metadata": {
        "id": "uVK_gtV9ox2r"
      },
      "execution_count": null,
      "outputs": []
    },
    {
      "cell_type": "code",
      "source": [
        "model.summary()"
      ],
      "metadata": {
        "colab": {
          "base_uri": "https://localhost:8080/"
        },
        "id": "5MWEzH3Jq20A",
        "outputId": "6fa17ee1-65b0-4563-82bd-a88671dc9814"
      },
      "execution_count": null,
      "outputs": [
        {
          "output_type": "stream",
          "name": "stdout",
          "text": [
            "Model: \"sequential_5\"\n",
            "_________________________________________________________________\n",
            " Layer (type)                Output Shape              Param #   \n",
            "=================================================================\n",
            " gru_5 (GRU)                 (None, 20, 32)            3360      \n",
            "                                                                 \n",
            " time_distributed_5 (TimeDi  (None, 20, 64)            2112      \n",
            " stributed)                                                      \n",
            "                                                                 \n",
            " time_distributed_6 (TimeDi  (None, 20, 58)            3770      \n",
            " stributed)                                                      \n",
            "                                                                 \n",
            "=================================================================\n",
            "Total params: 9242 (36.10 KB)\n",
            "Trainable params: 9242 (36.10 KB)\n",
            "Non-trainable params: 0 (0.00 Byte)\n",
            "_________________________________________________________________\n"
          ]
        }
      ]
    },
    {
      "cell_type": "code",
      "source": [
        "history = model.fit(v_bhs_x, v_bhs_y, batch_size=1, epochs=10, validation_split=0.2)"
      ],
      "metadata": {
        "colab": {
          "base_uri": "https://localhost:8080/"
        },
        "id": "M5hXofMXsBqX",
        "outputId": "89b93da4-0521-4491-f0e9-9f21ddcdafae"
      },
      "execution_count": null,
      "outputs": [
        {
          "output_type": "stream",
          "name": "stdout",
          "text": [
            "Epoch 1/10\n",
            "8000/8000 [==============================] - 82s 10ms/step - loss: 1.2743 - accuracy: 0.5003 - val_loss: 0.8417 - val_accuracy: 0.6581\n",
            "Epoch 2/10\n",
            "8000/8000 [==============================] - 75s 9ms/step - loss: 0.6851 - accuracy: 0.7299 - val_loss: 0.5307 - val_accuracy: 0.7898\n",
            "Epoch 3/10\n",
            "8000/8000 [==============================] - 82s 10ms/step - loss: 0.3525 - accuracy: 0.8854 - val_loss: 0.2025 - val_accuracy: 0.9580\n",
            "Epoch 4/10\n",
            "8000/8000 [==============================] - 77s 10ms/step - loss: 0.1767 - accuracy: 0.9519 - val_loss: 0.1005 - val_accuracy: 0.9826\n",
            "Epoch 5/10\n",
            "8000/8000 [==============================] - 80s 10ms/step - loss: 0.1074 - accuracy: 0.9729 - val_loss: 0.0645 - val_accuracy: 0.9845\n",
            "Epoch 6/10\n",
            "8000/8000 [==============================] - 81s 10ms/step - loss: 0.0754 - accuracy: 0.9821 - val_loss: 0.0431 - val_accuracy: 0.9930\n",
            "Epoch 7/10\n",
            "8000/8000 [==============================] - 83s 10ms/step - loss: 0.0598 - accuracy: 0.9857 - val_loss: 0.0411 - val_accuracy: 0.9894\n",
            "Epoch 8/10\n",
            "8000/8000 [==============================] - 89s 11ms/step - loss: 0.0521 - accuracy: 0.9877 - val_loss: 0.0324 - val_accuracy: 0.9950\n",
            "Epoch 9/10\n",
            "8000/8000 [==============================] - 116s 15ms/step - loss: 0.0445 - accuracy: 0.9899 - val_loss: 0.0188 - val_accuracy: 0.9977\n",
            "Epoch 10/10\n",
            "8000/8000 [==============================] - 107s 13ms/step - loss: 0.0416 - accuracy: 0.9904 - val_loss: 0.0172 - val_accuracy: 0.9974\n"
          ]
        }
      ]
    },
    {
      "cell_type": "code",
      "source": [
        "plt.plot(range(len(history.history['accuracy'])), history.history['accuracy'], 'g')\n",
        "plt.plot(range(len(history.history['val_accuracy'])), history.history['val_accuracy'], 'b')\n",
        "plt.show()"
      ],
      "metadata": {
        "colab": {
          "base_uri": "https://localhost:8080/",
          "height": 430
        },
        "id": "JbZmUKQRuXXz",
        "outputId": "41cba1d0-364c-4fdf-a1a7-4eb2e664e650"
      },
      "execution_count": null,
      "outputs": [
        {
          "output_type": "display_data",
          "data": {
            "text/plain": [
              "<Figure size 640x480 with 1 Axes>"
            ],
            "image/png": "[encoded data removed]"
          },
          "metadata": {}
        }
      ]
    },
    {
      "cell_type": "code",
      "source": [
        "# Ini adalah fungsi yang merubah probabilitas vektor ke dalam\n",
        "# angka-angka diskrit yang kemudian dipergunakan sebagai basis\n",
        "# pencarian kata yang sesuai dengan kamus token\n",
        "\n",
        "def logits_to_text(logits, tokenizer):\n",
        "  index_to_words = {id: word for word, id in tokenizer.word_index.items()}\n",
        "  index_to_words[0] = ''\n",
        "  return ' '.join([index_to_words[prediction] for prediction in np.argmax(logits, 1)])"
      ],
      "metadata": {
        "id": "ITolHVyPsXxt"
      },
      "execution_count": null,
      "outputs": []
    },
    {
      "cell_type": "code",
      "source": [
        "kalimat_test = ['ih ih eh eh eh uh uh ah oh uh ah oh oh oh ah ih eh ih uh eh']\n",
        "kalimat_test = token_uh.texts_to_sequences(kalimat_test)\n",
        "kalimat_test = pad_sequences(kalimat_test, maxlen=20, padding='post')\n",
        "kalimat_test = kalimat_test.reshape(kalimat_test.shape[0], kalimat_test.shape[1], 1)\n",
        "\n",
        "y_pred = model.predict(kalimat_test)\n",
        "print(logits_to_text(y_pred[0], token_ah))"
      ],
      "metadata": {
        "colab": {
          "base_uri": "https://localhost:8080/"
        },
        "id": "E179jmK_uw7G",
        "outputId": "96444eaa-891c-49f0-dd31-3e421a71e977"
      },
      "execution_count": null,
      "outputs": [
        {
          "output_type": "stream",
          "name": "stdout",
          "text": [
            "1/1 [==============================] - 1s 1s/step\n",
            "ih ihh eh ehh ehhh uh uhh ah oh uhhh ahh ohh ohhh ohhhh ahhh ihhh ehhhh ihhhh uhhhh ehhhhh\n"
          ]
        }
      ]
    }
  ]
}