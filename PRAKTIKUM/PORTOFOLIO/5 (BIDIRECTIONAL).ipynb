{
  "cells": [
    {
      "cell_type": "markdown",
      "source": [
        "<h1 style=\"text-align:center\">BIDIRECTIONAL</h1>"
      ],
      "metadata": {
        "id": "nPOnPOCDpm63"
      }
    },
    {
      "cell_type": "markdown",
      "source": [
        "NAMA : GAYUH FIKRI KHUSNAELI\n",
        "\n",
        "NIM : 21110024"
      ],
      "metadata": {
        "id": "CmHMnUbDptmr"
      }
    },
    {
      "cell_type": "markdown",
      "source": [
        "# Import Dataset"
      ],
      "metadata": {
        "id": "VJECV7p72udI"
      }
    },
    {
      "cell_type": "code",
      "execution_count": null,
      "metadata": {
        "id": "WnB4mysIJOSn",
        "colab": {
          "base_uri": "https://localhost:8080/",
          "height": 206
        },
        "outputId": "96c1ba62-9845-450a-fa44-50abe7241a1a"
      },
      "outputs": [
        {
          "output_type": "execute_result",
          "data": {
            "text/plain": [
              "      ind   eng\n",
              "0    Hai.   Hi.\n",
              "1   Lari!  Run!\n",
              "2   Lari!  Run.\n",
              "3  Siapa?  Who?\n",
              "4    Wow!  Wow!"
            ],
            "text/html": [
              "\n",
              "  <div id=\"df-8dfcd80d-85a7-484f-a426-b5bb3b07c93d\" class=\"colab-df-container\">\n",
              "    <div>\n",
              "<style scoped>\n",
              "    .dataframe tbody tr th:only-of-type {\n",
              "        vertical-align: middle;\n",
              "    }\n",
              "\n",
              "    .dataframe tbody tr th {\n",
              "        vertical-align: top;\n",
              "    }\n",
              "\n",
              "    .dataframe thead th {\n",
              "        text-align: right;\n",
              "    }\n",
              "</style>\n",
              "<table border=\"1\" class=\"dataframe\">\n",
              "  <thead>\n",
              "    <tr style=\"text-align: right;\">\n",
              "      <th></th>\n",
              "      <th>ind</th>\n",
              "      <th>eng</th>\n",
              "    </tr>\n",
              "  </thead>\n",
              "  <tbody>\n",
              "    <tr>\n",
              "      <th>0</th>\n",
              "      <td>Hai.</td>\n",
              "      <td>Hi.</td>\n",
              "    </tr>\n",
              "    <tr>\n",
              "      <th>1</th>\n",
              "      <td>Lari!</td>\n",
              "      <td>Run!</td>\n",
              "    </tr>\n",
              "    <tr>\n",
              "      <th>2</th>\n",
              "      <td>Lari!</td>\n",
              "      <td>Run.</td>\n",
              "    </tr>\n",
              "    <tr>\n",
              "      <th>3</th>\n",
              "      <td>Siapa?</td>\n",
              "      <td>Who?</td>\n",
              "    </tr>\n",
              "    <tr>\n",
              "      <th>4</th>\n",
              "      <td>Wow!</td>\n",
              "      <td>Wow!</td>\n",
              "    </tr>\n",
              "  </tbody>\n",
              "</table>\n",
              "</div>\n",
              "    <div class=\"colab-df-buttons\">\n",
              "\n",
              "  <div class=\"colab-df-container\">\n",
              "    <button class=\"colab-df-convert\" onclick=\"convertToInteractive('df-8dfcd80d-85a7-484f-a426-b5bb3b07c93d')\"\n",
              "            title=\"Convert this dataframe to an interactive table.\"\n",
              "            style=\"display:none;\">\n",
              "\n",
              "  <svg xmlns=\"http://www.w3.org/2000/svg\" height=\"24px\" viewBox=\"0 -960 960 960\">\n",
              "    <path d=\"M120-120v-720h720v720H120Zm60-500h600v-160H180v160Zm220 220h160v-160H400v160Zm0 220h160v-160H400v160ZM180-400h160v-160H180v160Zm440 0h160v-160H620v160ZM180-180h160v-160H180v160Zm440 0h160v-160H620v160Z\"/>\n",
              "  </svg>\n",
              "    </button>\n",
              "\n",
              "  <style>\n",
              "    .colab-df-container {\n",
              "      display:flex;\n",
              "      gap: 12px;\n",
              "    }\n",
              "\n",
              "    .colab-df-convert {\n",
              "      background-color: #E8F0FE;\n",
              "      border: none;\n",
              "      border-radius: 50%;\n",
              "      cursor: pointer;\n",
              "      display: none;\n",
              "      fill: #1967D2;\n",
              "      height: 32px;\n",
              "      padding: 0 0 0 0;\n",
              "      width: 32px;\n",
              "    }\n",
              "\n",
              "    .colab-df-convert:hover {\n",
              "      background-color: #E2EBFA;\n",
              "      box-shadow: 0px 1px 2px rgba(60, 64, 67, 0.3), 0px 1px 3px 1px rgba(60, 64, 67, 0.15);\n",
              "      fill: #174EA6;\n",
              "    }\n",
              "\n",
              "    .colab-df-buttons div {\n",
              "      margin-bottom: 4px;\n",
              "    }\n",
              "\n",
              "    [theme=dark] .colab-df-convert {\n",
              "      background-color: #3B4455;\n",
              "      fill: #D2E3FC;\n",
              "    }\n",
              "\n",
              "    [theme=dark] .colab-df-convert:hover {\n",
              "      background-color: #434B5C;\n",
              "      box-shadow: 0px 1px 3px 1px rgba(0, 0, 0, 0.15);\n",
              "      filter: drop-shadow(0px 1px 2px rgba(0, 0, 0, 0.3));\n",
              "      fill: #FFFFFF;\n",
              "    }\n",
              "  </style>\n",
              "\n",
              "    <script>\n",
              "      const buttonEl =\n",
              "        document.querySelector('#df-8dfcd80d-85a7-484f-a426-b5bb3b07c93d button.colab-df-convert');\n",
              "      buttonEl.style.display =\n",
              "        google.colab.kernel.accessAllowed ? 'block' : 'none';\n",
              "\n",
              "      async function convertToInteractive(key) {\n",
              "        const element = document.querySelector('#df-8dfcd80d-85a7-484f-a426-b5bb3b07c93d');\n",
              "        const dataTable =\n",
              "          await google.colab.kernel.invokeFunction('convertToInteractive',\n",
              "                                                    [key], {});\n",
              "        if (!dataTable) return;\n",
              "\n",
              "        const docLinkHtml = 'Like what you see? Visit the ' +\n",
              "          '<a target=\"_blank\" href=https://colab.research.google.com/notebooks/data_table.ipynb>data table notebook</a>'\n",
              "          + ' to learn more about interactive tables.';\n",
              "        element.innerHTML = '';\n",
              "        dataTable['output_type'] = 'display_data';\n",
              "        await google.colab.output.renderOutput(dataTable, element);\n",
              "        const docLink = document.createElement('div');\n",
              "        docLink.innerHTML = docLinkHtml;\n",
              "        element.appendChild(docLink);\n",
              "      }\n",
              "    </script>\n",
              "  </div>\n",
              "\n",
              "\n",
              "<div id=\"df-e9ee8e5e-15bd-4728-83c6-e5749b6ae5e5\">\n",
              "  <button class=\"colab-df-quickchart\" onclick=\"quickchart('df-e9ee8e5e-15bd-4728-83c6-e5749b6ae5e5')\"\n",
              "            title=\"Suggest charts\"\n",
              "            style=\"display:none;\">\n",
              "\n",
              "<svg xmlns=\"http://www.w3.org/2000/svg\" height=\"24px\"viewBox=\"0 0 24 24\"\n",
              "     width=\"24px\">\n",
              "    <g>\n",
              "        <path d=\"M19 3H5c-1.1 0-2 .9-2 2v14c0 1.1.9 2 2 2h14c1.1 0 2-.9 2-2V5c0-1.1-.9-2-2-2zM9 17H7v-7h2v7zm4 0h-2V7h2v10zm4 0h-2v-4h2v4z\"/>\n",
              "    </g>\n",
              "</svg>\n",
              "  </button>\n",
              "\n",
              "<style>\n",
              "  .colab-df-quickchart {\n",
              "      --bg-color: #E8F0FE;\n",
              "      --fill-color: #1967D2;\n",
              "      --hover-bg-color: #E2EBFA;\n",
              "      --hover-fill-color: #174EA6;\n",
              "      --disabled-fill-color: #AAA;\n",
              "      --disabled-bg-color: #DDD;\n",
              "  }\n",
              "\n",
              "  [theme=dark] .colab-df-quickchart {\n",
              "      --bg-color: #3B4455;\n",
              "      --fill-color: #D2E3FC;\n",
              "      --hover-bg-color: #434B5C;\n",
              "      --hover-fill-color: #FFFFFF;\n",
              "      --disabled-bg-color: #3B4455;\n",
              "      --disabled-fill-color: #666;\n",
              "  }\n",
              "\n",
              "  .colab-df-quickchart {\n",
              "    background-color: var(--bg-color);\n",
              "    border: none;\n",
              "    border-radius: 50%;\n",
              "    cursor: pointer;\n",
              "    display: none;\n",
              "    fill: var(--fill-color);\n",
              "    height: 32px;\n",
              "    padding: 0;\n",
              "    width: 32px;\n",
              "  }\n",
              "\n",
              "  .colab-df-quickchart:hover {\n",
              "    background-color: var(--hover-bg-color);\n",
              "    box-shadow: 0 1px 2px rgba(60, 64, 67, 0.3), 0 1px 3px 1px rgba(60, 64, 67, 0.15);\n",
              "    fill: var(--button-hover-fill-color);\n",
              "  }\n",
              "\n",
              "  .colab-df-quickchart-complete:disabled,\n",
              "  .colab-df-quickchart-complete:disabled:hover {\n",
              "    background-color: var(--disabled-bg-color);\n",
              "    fill: var(--disabled-fill-color);\n",
              "    box-shadow: none;\n",
              "  }\n",
              "\n",
              "  .colab-df-spinner {\n",
              "    border: 2px solid var(--fill-color);\n",
              "    border-color: transparent;\n",
              "    border-bottom-color: var(--fill-color);\n",
              "    animation:\n",
              "      spin 1s steps(1) infinite;\n",
              "  }\n",
              "\n",
              "  @keyframes spin {\n",
              "    0% {\n",
              "      border-color: transparent;\n",
              "      border-bottom-color: var(--fill-color);\n",
              "      border-left-color: var(--fill-color);\n",
              "    }\n",
              "    20% {\n",
              "      border-color: transparent;\n",
              "      border-left-color: var(--fill-color);\n",
              "      border-top-color: var(--fill-color);\n",
              "    }\n",
              "    30% {\n",
              "      border-color: transparent;\n",
              "      border-left-color: var(--fill-color);\n",
              "      border-top-color: var(--fill-color);\n",
              "      border-right-color: var(--fill-color);\n",
              "    }\n",
              "    40% {\n",
              "      border-color: transparent;\n",
              "      border-right-color: var(--fill-color);\n",
              "      border-top-color: var(--fill-color);\n",
              "    }\n",
              "    60% {\n",
              "      border-color: transparent;\n",
              "      border-right-color: var(--fill-color);\n",
              "    }\n",
              "    80% {\n",
              "      border-color: transparent;\n",
              "      border-right-color: var(--fill-color);\n",
              "      border-bottom-color: var(--fill-color);\n",
              "    }\n",
              "    90% {\n",
              "      border-color: transparent;\n",
              "      border-bottom-color: var(--fill-color);\n",
              "    }\n",
              "  }\n",
              "</style>\n",
              "\n",
              "  <script>\n",
              "    async function quickchart(key) {\n",
              "      const quickchartButtonEl =\n",
              "        document.querySelector('#' + key + ' button');\n",
              "      quickchartButtonEl.disabled = true;  // To prevent multiple clicks.\n",
              "      quickchartButtonEl.classList.add('colab-df-spinner');\n",
              "      try {\n",
              "        const charts = await google.colab.kernel.invokeFunction(\n",
              "            'suggestCharts', [key], {});\n",
              "      } catch (error) {\n",
              "        console.error('Error during call to suggestCharts:', error);\n",
              "      }\n",
              "      quickchartButtonEl.classList.remove('colab-df-spinner');\n",
              "      quickchartButtonEl.classList.add('colab-df-quickchart-complete');\n",
              "    }\n",
              "    (() => {\n",
              "      let quickchartButtonEl =\n",
              "        document.querySelector('#df-e9ee8e5e-15bd-4728-83c6-e5749b6ae5e5 button');\n",
              "      quickchartButtonEl.style.display =\n",
              "        google.colab.kernel.accessAllowed ? 'block' : 'none';\n",
              "    })();\n",
              "  </script>\n",
              "</div>\n",
              "    </div>\n",
              "  </div>\n"
            ]
          },
          "metadata": {},
          "execution_count": 1
        }
      ],
      "source": [
        "import pandas as pd\n",
        "import string\n",
        "import numpy as np\n",
        "\n",
        "# Karena dataset bentuknya file txt, bukan csv jadi tidak bisa kita buka dengan pandas. Kita harus modifikasi filenya supaya bisa dibaca oleh pandas\n",
        "# Buka file\n",
        "file = open(\"/content/drive/MyDrive/data set/ind-eng/ind.txt\").read()\n",
        "\n",
        "# Buat data dictionary untuk diubah menjadi pandas datafrmae\n",
        "data = {\n",
        "    'ind':[],\n",
        "    'eng':[]\n",
        "}\n",
        "\n",
        "\n",
        "for idx, kalimat in enumerate(file.split(\"\\n\")): # looping data setiap yang berakhiran '\\n'\n",
        "  kalimat = kalimat.split(\"\\t\")\n",
        "  if len(kalimat) == 3:\n",
        "    data['ind'].append(kalimat[1])\n",
        "    data['eng'].append(kalimat[0])\n",
        "\n",
        "# Membuat dataframe\n",
        "df = pd.DataFrame(data)\n",
        "df.head()"
      ]
    },
    {
      "cell_type": "code",
      "execution_count": null,
      "metadata": {
        "colab": {
          "base_uri": "https://localhost:8080/",
          "height": 206
        },
        "id": "bqU_NEf7E9sN",
        "outputId": "c6583017-bfe7-4836-feea-3afc87b2602f"
      },
      "outputs": [
        {
          "output_type": "execute_result",
          "data": {
            "text/plain": [
              "                                                     ind  \\\n",
              "13006  Ketika dia sudah selesai menyetrika, Mary mema...   \n",
              "13007  Ketika Tom berdiri untuk pidato, pikirannya ti...   \n",
              "13008  Januari, Februari, Maret, April, Mei, Juni, Ju...   \n",
              "13009  Irene Pepperberg, seorang peneliti di Universi...   \n",
              "13010  Jika seseorang tidak berkesempatan untuk mengu...   \n",
              "\n",
              "                                                     eng  \n",
              "13006  When she was finished ironing, Mary switched o...  \n",
              "13007  When he got up to make his speech, Tom's mind ...  \n",
              "13008  January, February, March, April, May, June, Ju...  \n",
              "13009  Irene Pepperberg, a researcher at Northwestern...  \n",
              "13010  If a person has not had a chance to acquire hi...  "
            ],
            "text/html": [
              "\n",
              "  <div id=\"df-c82f8e09-8eda-44e4-9c5b-2b4b1736b9ed\" class=\"colab-df-container\">\n",
              "    <div>\n",
              "<style scoped>\n",
              "    .dataframe tbody tr th:only-of-type {\n",
              "        vertical-align: middle;\n",
              "    }\n",
              "\n",
              "    .dataframe tbody tr th {\n",
              "        vertical-align: top;\n",
              "    }\n",
              "\n",
              "    .dataframe thead th {\n",
              "        text-align: right;\n",
              "    }\n",
              "</style>\n",
              "<table border=\"1\" class=\"dataframe\">\n",
              "  <thead>\n",
              "    <tr style=\"text-align: right;\">\n",
              "      <th></th>\n",
              "      <th>ind</th>\n",
              "      <th>eng</th>\n",
              "    </tr>\n",
              "  </thead>\n",
              "  <tbody>\n",
              "    <tr>\n",
              "      <th>13006</th>\n",
              "      <td>Ketika dia sudah selesai menyetrika, Mary mema...</td>\n",
              "      <td>When she was finished ironing, Mary switched o...</td>\n",
              "    </tr>\n",
              "    <tr>\n",
              "      <th>13007</th>\n",
              "      <td>Ketika Tom berdiri untuk pidato, pikirannya ti...</td>\n",
              "      <td>When he got up to make his speech, Tom's mind ...</td>\n",
              "    </tr>\n",
              "    <tr>\n",
              "      <th>13008</th>\n",
              "      <td>Januari, Februari, Maret, April, Mei, Juni, Ju...</td>\n",
              "      <td>January, February, March, April, May, June, Ju...</td>\n",
              "    </tr>\n",
              "    <tr>\n",
              "      <th>13009</th>\n",
              "      <td>Irene Pepperberg, seorang peneliti di Universi...</td>\n",
              "      <td>Irene Pepperberg, a researcher at Northwestern...</td>\n",
              "    </tr>\n",
              "    <tr>\n",
              "      <th>13010</th>\n",
              "      <td>Jika seseorang tidak berkesempatan untuk mengu...</td>\n",
              "      <td>If a person has not had a chance to acquire hi...</td>\n",
              "    </tr>\n",
              "  </tbody>\n",
              "</table>\n",
              "</div>\n",
              "    <div class=\"colab-df-buttons\">\n",
              "\n",
              "  <div class=\"colab-df-container\">\n",
              "    <button class=\"colab-df-convert\" onclick=\"convertToInteractive('df-c82f8e09-8eda-44e4-9c5b-2b4b1736b9ed')\"\n",
              "            title=\"Convert this dataframe to an interactive table.\"\n",
              "            style=\"display:none;\">\n",
              "\n",
              "  <svg xmlns=\"http://www.w3.org/2000/svg\" height=\"24px\" viewBox=\"0 -960 960 960\">\n",
              "    <path d=\"M120-120v-720h720v720H120Zm60-500h600v-160H180v160Zm220 220h160v-160H400v160Zm0 220h160v-160H400v160ZM180-400h160v-160H180v160Zm440 0h160v-160H620v160ZM180-180h160v-160H180v160Zm440 0h160v-160H620v160Z\"/>\n",
              "  </svg>\n",
              "    </button>\n",
              "\n",
              "  <style>\n",
              "    .colab-df-container {\n",
              "      display:flex;\n",
              "      gap: 12px;\n",
              "    }\n",
              "\n",
              "    .colab-df-convert {\n",
              "      background-color: #E8F0FE;\n",
              "      border: none;\n",
              "      border-radius: 50%;\n",
              "      cursor: pointer;\n",
              "      display: none;\n",
              "      fill: #1967D2;\n",
              "      height: 32px;\n",
              "      padding: 0 0 0 0;\n",
              "      width: 32px;\n",
              "    }\n",
              "\n",
              "    .colab-df-convert:hover {\n",
              "      background-color: #E2EBFA;\n",
              "      box-shadow: 0px 1px 2px rgba(60, 64, 67, 0.3), 0px 1px 3px 1px rgba(60, 64, 67, 0.15);\n",
              "      fill: #174EA6;\n",
              "    }\n",
              "\n",
              "    .colab-df-buttons div {\n",
              "      margin-bottom: 4px;\n",
              "    }\n",
              "\n",
              "    [theme=dark] .colab-df-convert {\n",
              "      background-color: #3B4455;\n",
              "      fill: #D2E3FC;\n",
              "    }\n",
              "\n",
              "    [theme=dark] .colab-df-convert:hover {\n",
              "      background-color: #434B5C;\n",
              "      box-shadow: 0px 1px 3px 1px rgba(0, 0, 0, 0.15);\n",
              "      filter: drop-shadow(0px 1px 2px rgba(0, 0, 0, 0.3));\n",
              "      fill: #FFFFFF;\n",
              "    }\n",
              "  </style>\n",
              "\n",
              "    <script>\n",
              "      const buttonEl =\n",
              "        document.querySelector('#df-c82f8e09-8eda-44e4-9c5b-2b4b1736b9ed button.colab-df-convert');\n",
              "      buttonEl.style.display =\n",
              "        google.colab.kernel.accessAllowed ? 'block' : 'none';\n",
              "\n",
              "      async function convertToInteractive(key) {\n",
              "        const element = document.querySelector('#df-c82f8e09-8eda-44e4-9c5b-2b4b1736b9ed');\n",
              "        const dataTable =\n",
              "          await google.colab.kernel.invokeFunction('convertToInteractive',\n",
              "                                                    [key], {});\n",
              "        if (!dataTable) return;\n",
              "\n",
              "        const docLinkHtml = 'Like what you see? Visit the ' +\n",
              "          '<a target=\"_blank\" href=https://colab.research.google.com/notebooks/data_table.ipynb>data table notebook</a>'\n",
              "          + ' to learn more about interactive tables.';\n",
              "        element.innerHTML = '';\n",
              "        dataTable['output_type'] = 'display_data';\n",
              "        await google.colab.output.renderOutput(dataTable, element);\n",
              "        const docLink = document.createElement('div');\n",
              "        docLink.innerHTML = docLinkHtml;\n",
              "        element.appendChild(docLink);\n",
              "      }\n",
              "    </script>\n",
              "  </div>\n",
              "\n",
              "\n",
              "<div id=\"df-72102b79-b5de-42d6-ab40-6f0888166ef2\">\n",
              "  <button class=\"colab-df-quickchart\" onclick=\"quickchart('df-72102b79-b5de-42d6-ab40-6f0888166ef2')\"\n",
              "            title=\"Suggest charts\"\n",
              "            style=\"display:none;\">\n",
              "\n",
              "<svg xmlns=\"http://www.w3.org/2000/svg\" height=\"24px\"viewBox=\"0 0 24 24\"\n",
              "     width=\"24px\">\n",
              "    <g>\n",
              "        <path d=\"M19 3H5c-1.1 0-2 .9-2 2v14c0 1.1.9 2 2 2h14c1.1 0 2-.9 2-2V5c0-1.1-.9-2-2-2zM9 17H7v-7h2v7zm4 0h-2V7h2v10zm4 0h-2v-4h2v4z\"/>\n",
              "    </g>\n",
              "</svg>\n",
              "  </button>\n",
              "\n",
              "<style>\n",
              "  .colab-df-quickchart {\n",
              "      --bg-color: #E8F0FE;\n",
              "      --fill-color: #1967D2;\n",
              "      --hover-bg-color: #E2EBFA;\n",
              "      --hover-fill-color: #174EA6;\n",
              "      --disabled-fill-color: #AAA;\n",
              "      --disabled-bg-color: #DDD;\n",
              "  }\n",
              "\n",
              "  [theme=dark] .colab-df-quickchart {\n",
              "      --bg-color: #3B4455;\n",
              "      --fill-color: #D2E3FC;\n",
              "      --hover-bg-color: #434B5C;\n",
              "      --hover-fill-color: #FFFFFF;\n",
              "      --disabled-bg-color: #3B4455;\n",
              "      --disabled-fill-color: #666;\n",
              "  }\n",
              "\n",
              "  .colab-df-quickchart {\n",
              "    background-color: var(--bg-color);\n",
              "    border: none;\n",
              "    border-radius: 50%;\n",
              "    cursor: pointer;\n",
              "    display: none;\n",
              "    fill: var(--fill-color);\n",
              "    height: 32px;\n",
              "    padding: 0;\n",
              "    width: 32px;\n",
              "  }\n",
              "\n",
              "  .colab-df-quickchart:hover {\n",
              "    background-color: var(--hover-bg-color);\n",
              "    box-shadow: 0 1px 2px rgba(60, 64, 67, 0.3), 0 1px 3px 1px rgba(60, 64, 67, 0.15);\n",
              "    fill: var(--button-hover-fill-color);\n",
              "  }\n",
              "\n",
              "  .colab-df-quickchart-complete:disabled,\n",
              "  .colab-df-quickchart-complete:disabled:hover {\n",
              "    background-color: var(--disabled-bg-color);\n",
              "    fill: var(--disabled-fill-color);\n",
              "    box-shadow: none;\n",
              "  }\n",
              "\n",
              "  .colab-df-spinner {\n",
              "    border: 2px solid var(--fill-color);\n",
              "    border-color: transparent;\n",
              "    border-bottom-color: var(--fill-color);\n",
              "    animation:\n",
              "      spin 1s steps(1) infinite;\n",
              "  }\n",
              "\n",
              "  @keyframes spin {\n",
              "    0% {\n",
              "      border-color: transparent;\n",
              "      border-bottom-color: var(--fill-color);\n",
              "      border-left-color: var(--fill-color);\n",
              "    }\n",
              "    20% {\n",
              "      border-color: transparent;\n",
              "      border-left-color: var(--fill-color);\n",
              "      border-top-color: var(--fill-color);\n",
              "    }\n",
              "    30% {\n",
              "      border-color: transparent;\n",
              "      border-left-color: var(--fill-color);\n",
              "      border-top-color: var(--fill-color);\n",
              "      border-right-color: var(--fill-color);\n",
              "    }\n",
              "    40% {\n",
              "      border-color: transparent;\n",
              "      border-right-color: var(--fill-color);\n",
              "      border-top-color: var(--fill-color);\n",
              "    }\n",
              "    60% {\n",
              "      border-color: transparent;\n",
              "      border-right-color: var(--fill-color);\n",
              "    }\n",
              "    80% {\n",
              "      border-color: transparent;\n",
              "      border-right-color: var(--fill-color);\n",
              "      border-bottom-color: var(--fill-color);\n",
              "    }\n",
              "    90% {\n",
              "      border-color: transparent;\n",
              "      border-bottom-color: var(--fill-color);\n",
              "    }\n",
              "  }\n",
              "</style>\n",
              "\n",
              "  <script>\n",
              "    async function quickchart(key) {\n",
              "      const quickchartButtonEl =\n",
              "        document.querySelector('#' + key + ' button');\n",
              "      quickchartButtonEl.disabled = true;  // To prevent multiple clicks.\n",
              "      quickchartButtonEl.classList.add('colab-df-spinner');\n",
              "      try {\n",
              "        const charts = await google.colab.kernel.invokeFunction(\n",
              "            'suggestCharts', [key], {});\n",
              "      } catch (error) {\n",
              "        console.error('Error during call to suggestCharts:', error);\n",
              "      }\n",
              "      quickchartButtonEl.classList.remove('colab-df-spinner');\n",
              "      quickchartButtonEl.classList.add('colab-df-quickchart-complete');\n",
              "    }\n",
              "    (() => {\n",
              "      let quickchartButtonEl =\n",
              "        document.querySelector('#df-72102b79-b5de-42d6-ab40-6f0888166ef2 button');\n",
              "      quickchartButtonEl.style.display =\n",
              "        google.colab.kernel.accessAllowed ? 'block' : 'none';\n",
              "    })();\n",
              "  </script>\n",
              "</div>\n",
              "    </div>\n",
              "  </div>\n"
            ]
          },
          "metadata": {},
          "execution_count": 2
        }
      ],
      "source": [
        "# Melihat 5 data terakhir\n",
        "df.tail()"
      ]
    },
    {
      "cell_type": "code",
      "execution_count": null,
      "metadata": {
        "colab": {
          "base_uri": "https://localhost:8080/"
        },
        "id": "ijpxTZiFEy_b",
        "outputId": "71c19537-5534-4b26-bc5e-db55987042be"
      },
      "outputs": [
        {
          "output_type": "execute_result",
          "data": {
            "text/plain": [
              "(13011, 2)"
            ]
          },
          "metadata": {},
          "execution_count": 3
        }
      ],
      "source": [
        "# Jumlah baris dan kolom\n",
        "df.shape"
      ]
    },
    {
      "cell_type": "markdown",
      "source": [
        "# Preprocessing Data"
      ],
      "metadata": {
        "id": "jxt9_D4J4zde"
      }
    },
    {
      "cell_type": "code",
      "source": [
        "# Data yang bernilai null\n",
        "df.isna().sum()"
      ],
      "metadata": {
        "colab": {
          "base_uri": "https://localhost:8080/"
        },
        "id": "Io6BTUOi6ClD",
        "outputId": "a4aa48c6-1e8f-4f8d-8c2e-3265f70de974"
      },
      "execution_count": null,
      "outputs": [
        {
          "output_type": "execute_result",
          "data": {
            "text/plain": [
              "ind    0\n",
              "eng    0\n",
              "dtype: int64"
            ]
          },
          "metadata": {},
          "execution_count": 4
        }
      ]
    },
    {
      "cell_type": "code",
      "execution_count": null,
      "metadata": {
        "id": "Cs9Glr_BIwEj"
      },
      "outputs": [],
      "source": [
        "# Kita hanya menghapus karakter '!@?.,' dan mengecilkan semua karakter\n",
        "# Jika ingin menambahkan metode cleaning text yang lain tidak apa-apa\n",
        "# Di bawah ini fungsi untuk menghapus punctuation dan mengecilkan huruf\n",
        "def clean(text):\n",
        "  no_punct = text.translate(str.maketrans('','', '!@?.,'))\n",
        "  lower_text = no_punct.lower()\n",
        "  return lower_text"
      ]
    },
    {
      "cell_type": "code",
      "execution_count": null,
      "metadata": {
        "id": "mb32uhQMm577",
        "colab": {
          "base_uri": "https://localhost:8080/",
          "height": 206
        },
        "outputId": "93719e43-9b0d-4647-b27d-2eeb89c987a5"
      },
      "outputs": [
        {
          "output_type": "execute_result",
          "data": {
            "text/plain": [
              "     ind  eng\n",
              "0    hai   hi\n",
              "1   lari  run\n",
              "2   lari  run\n",
              "3  siapa  who\n",
              "4    wow  wow"
            ],
            "text/html": [
              "\n",
              "  <div id=\"df-8801a2da-ee23-44e9-aec5-77cb16cfec38\" class=\"colab-df-container\">\n",
              "    <div>\n",
              "<style scoped>\n",
              "    .dataframe tbody tr th:only-of-type {\n",
              "        vertical-align: middle;\n",
              "    }\n",
              "\n",
              "    .dataframe tbody tr th {\n",
              "        vertical-align: top;\n",
              "    }\n",
              "\n",
              "    .dataframe thead th {\n",
              "        text-align: right;\n",
              "    }\n",
              "</style>\n",
              "<table border=\"1\" class=\"dataframe\">\n",
              "  <thead>\n",
              "    <tr style=\"text-align: right;\">\n",
              "      <th></th>\n",
              "      <th>ind</th>\n",
              "      <th>eng</th>\n",
              "    </tr>\n",
              "  </thead>\n",
              "  <tbody>\n",
              "    <tr>\n",
              "      <th>0</th>\n",
              "      <td>hai</td>\n",
              "      <td>hi</td>\n",
              "    </tr>\n",
              "    <tr>\n",
              "      <th>1</th>\n",
              "      <td>lari</td>\n",
              "      <td>run</td>\n",
              "    </tr>\n",
              "    <tr>\n",
              "      <th>2</th>\n",
              "      <td>lari</td>\n",
              "      <td>run</td>\n",
              "    </tr>\n",
              "    <tr>\n",
              "      <th>3</th>\n",
              "      <td>siapa</td>\n",
              "      <td>who</td>\n",
              "    </tr>\n",
              "    <tr>\n",
              "      <th>4</th>\n",
              "      <td>wow</td>\n",
              "      <td>wow</td>\n",
              "    </tr>\n",
              "  </tbody>\n",
              "</table>\n",
              "</div>\n",
              "    <div class=\"colab-df-buttons\">\n",
              "\n",
              "  <div class=\"colab-df-container\">\n",
              "    <button class=\"colab-df-convert\" onclick=\"convertToInteractive('df-8801a2da-ee23-44e9-aec5-77cb16cfec38')\"\n",
              "            title=\"Convert this dataframe to an interactive table.\"\n",
              "            style=\"display:none;\">\n",
              "\n",
              "  <svg xmlns=\"http://www.w3.org/2000/svg\" height=\"24px\" viewBox=\"0 -960 960 960\">\n",
              "    <path d=\"M120-120v-720h720v720H120Zm60-500h600v-160H180v160Zm220 220h160v-160H400v160Zm0 220h160v-160H400v160ZM180-400h160v-160H180v160Zm440 0h160v-160H620v160ZM180-180h160v-160H180v160Zm440 0h160v-160H620v160Z\"/>\n",
              "  </svg>\n",
              "    </button>\n",
              "\n",
              "  <style>\n",
              "    .colab-df-container {\n",
              "      display:flex;\n",
              "      gap: 12px;\n",
              "    }\n",
              "\n",
              "    .colab-df-convert {\n",
              "      background-color: #E8F0FE;\n",
              "      border: none;\n",
              "      border-radius: 50%;\n",
              "      cursor: pointer;\n",
              "      display: none;\n",
              "      fill: #1967D2;\n",
              "      height: 32px;\n",
              "      padding: 0 0 0 0;\n",
              "      width: 32px;\n",
              "    }\n",
              "\n",
              "    .colab-df-convert:hover {\n",
              "      background-color: #E2EBFA;\n",
              "      box-shadow: 0px 1px 2px rgba(60, 64, 67, 0.3), 0px 1px 3px 1px rgba(60, 64, 67, 0.15);\n",
              "      fill: #174EA6;\n",
              "    }\n",
              "\n",
              "    .colab-df-buttons div {\n",
              "      margin-bottom: 4px;\n",
              "    }\n",
              "\n",
              "    [theme=dark] .colab-df-convert {\n",
              "      background-color: #3B4455;\n",
              "      fill: #D2E3FC;\n",
              "    }\n",
              "\n",
              "    [theme=dark] .colab-df-convert:hover {\n",
              "      background-color: #434B5C;\n",
              "      box-shadow: 0px 1px 3px 1px rgba(0, 0, 0, 0.15);\n",
              "      filter: drop-shadow(0px 1px 2px rgba(0, 0, 0, 0.3));\n",
              "      fill: #FFFFFF;\n",
              "    }\n",
              "  </style>\n",
              "\n",
              "    <script>\n",
              "      const buttonEl =\n",
              "        document.querySelector('#df-8801a2da-ee23-44e9-aec5-77cb16cfec38 button.colab-df-convert');\n",
              "      buttonEl.style.display =\n",
              "        google.colab.kernel.accessAllowed ? 'block' : 'none';\n",
              "\n",
              "      async function convertToInteractive(key) {\n",
              "        const element = document.querySelector('#df-8801a2da-ee23-44e9-aec5-77cb16cfec38');\n",
              "        const dataTable =\n",
              "          await google.colab.kernel.invokeFunction('convertToInteractive',\n",
              "                                                    [key], {});\n",
              "        if (!dataTable) return;\n",
              "\n",
              "        const docLinkHtml = 'Like what you see? Visit the ' +\n",
              "          '<a target=\"_blank\" href=https://colab.research.google.com/notebooks/data_table.ipynb>data table notebook</a>'\n",
              "          + ' to learn more about interactive tables.';\n",
              "        element.innerHTML = '';\n",
              "        dataTable['output_type'] = 'display_data';\n",
              "        await google.colab.output.renderOutput(dataTable, element);\n",
              "        const docLink = document.createElement('div');\n",
              "        docLink.innerHTML = docLinkHtml;\n",
              "        element.appendChild(docLink);\n",
              "      }\n",
              "    </script>\n",
              "  </div>\n",
              "\n",
              "\n",
              "<div id=\"df-a7589b3d-966d-41cc-8805-45fa89ba3f95\">\n",
              "  <button class=\"colab-df-quickchart\" onclick=\"quickchart('df-a7589b3d-966d-41cc-8805-45fa89ba3f95')\"\n",
              "            title=\"Suggest charts\"\n",
              "            style=\"display:none;\">\n",
              "\n",
              "<svg xmlns=\"http://www.w3.org/2000/svg\" height=\"24px\"viewBox=\"0 0 24 24\"\n",
              "     width=\"24px\">\n",
              "    <g>\n",
              "        <path d=\"M19 3H5c-1.1 0-2 .9-2 2v14c0 1.1.9 2 2 2h14c1.1 0 2-.9 2-2V5c0-1.1-.9-2-2-2zM9 17H7v-7h2v7zm4 0h-2V7h2v10zm4 0h-2v-4h2v4z\"/>\n",
              "    </g>\n",
              "</svg>\n",
              "  </button>\n",
              "\n",
              "<style>\n",
              "  .colab-df-quickchart {\n",
              "      --bg-color: #E8F0FE;\n",
              "      --fill-color: #1967D2;\n",
              "      --hover-bg-color: #E2EBFA;\n",
              "      --hover-fill-color: #174EA6;\n",
              "      --disabled-fill-color: #AAA;\n",
              "      --disabled-bg-color: #DDD;\n",
              "  }\n",
              "\n",
              "  [theme=dark] .colab-df-quickchart {\n",
              "      --bg-color: #3B4455;\n",
              "      --fill-color: #D2E3FC;\n",
              "      --hover-bg-color: #434B5C;\n",
              "      --hover-fill-color: #FFFFFF;\n",
              "      --disabled-bg-color: #3B4455;\n",
              "      --disabled-fill-color: #666;\n",
              "  }\n",
              "\n",
              "  .colab-df-quickchart {\n",
              "    background-color: var(--bg-color);\n",
              "    border: none;\n",
              "    border-radius: 50%;\n",
              "    cursor: pointer;\n",
              "    display: none;\n",
              "    fill: var(--fill-color);\n",
              "    height: 32px;\n",
              "    padding: 0;\n",
              "    width: 32px;\n",
              "  }\n",
              "\n",
              "  .colab-df-quickchart:hover {\n",
              "    background-color: var(--hover-bg-color);\n",
              "    box-shadow: 0 1px 2px rgba(60, 64, 67, 0.3), 0 1px 3px 1px rgba(60, 64, 67, 0.15);\n",
              "    fill: var(--button-hover-fill-color);\n",
              "  }\n",
              "\n",
              "  .colab-df-quickchart-complete:disabled,\n",
              "  .colab-df-quickchart-complete:disabled:hover {\n",
              "    background-color: var(--disabled-bg-color);\n",
              "    fill: var(--disabled-fill-color);\n",
              "    box-shadow: none;\n",
              "  }\n",
              "\n",
              "  .colab-df-spinner {\n",
              "    border: 2px solid var(--fill-color);\n",
              "    border-color: transparent;\n",
              "    border-bottom-color: var(--fill-color);\n",
              "    animation:\n",
              "      spin 1s steps(1) infinite;\n",
              "  }\n",
              "\n",
              "  @keyframes spin {\n",
              "    0% {\n",
              "      border-color: transparent;\n",
              "      border-bottom-color: var(--fill-color);\n",
              "      border-left-color: var(--fill-color);\n",
              "    }\n",
              "    20% {\n",
              "      border-color: transparent;\n",
              "      border-left-color: var(--fill-color);\n",
              "      border-top-color: var(--fill-color);\n",
              "    }\n",
              "    30% {\n",
              "      border-color: transparent;\n",
              "      border-left-color: var(--fill-color);\n",
              "      border-top-color: var(--fill-color);\n",
              "      border-right-color: var(--fill-color);\n",
              "    }\n",
              "    40% {\n",
              "      border-color: transparent;\n",
              "      border-right-color: var(--fill-color);\n",
              "      border-top-color: var(--fill-color);\n",
              "    }\n",
              "    60% {\n",
              "      border-color: transparent;\n",
              "      border-right-color: var(--fill-color);\n",
              "    }\n",
              "    80% {\n",
              "      border-color: transparent;\n",
              "      border-right-color: var(--fill-color);\n",
              "      border-bottom-color: var(--fill-color);\n",
              "    }\n",
              "    90% {\n",
              "      border-color: transparent;\n",
              "      border-bottom-color: var(--fill-color);\n",
              "    }\n",
              "  }\n",
              "</style>\n",
              "\n",
              "  <script>\n",
              "    async function quickchart(key) {\n",
              "      const quickchartButtonEl =\n",
              "        document.querySelector('#' + key + ' button');\n",
              "      quickchartButtonEl.disabled = true;  // To prevent multiple clicks.\n",
              "      quickchartButtonEl.classList.add('colab-df-spinner');\n",
              "      try {\n",
              "        const charts = await google.colab.kernel.invokeFunction(\n",
              "            'suggestCharts', [key], {});\n",
              "      } catch (error) {\n",
              "        console.error('Error during call to suggestCharts:', error);\n",
              "      }\n",
              "      quickchartButtonEl.classList.remove('colab-df-spinner');\n",
              "      quickchartButtonEl.classList.add('colab-df-quickchart-complete');\n",
              "    }\n",
              "    (() => {\n",
              "      let quickchartButtonEl =\n",
              "        document.querySelector('#df-a7589b3d-966d-41cc-8805-45fa89ba3f95 button');\n",
              "      quickchartButtonEl.style.display =\n",
              "        google.colab.kernel.accessAllowed ? 'block' : 'none';\n",
              "    })();\n",
              "  </script>\n",
              "</div>\n",
              "    </div>\n",
              "  </div>\n"
            ]
          },
          "metadata": {},
          "execution_count": 6
        }
      ],
      "source": [
        "df_clean = df.copy()\n",
        "\n",
        "# Menggunakan fungsi clean pada kolom ind dan eng\n",
        "df_clean.ind = df_clean.ind.apply(clean)\n",
        "df_clean.eng = df_clean.eng.apply(clean)\n",
        "df_clean.head()"
      ]
    },
    {
      "cell_type": "code",
      "source": [
        "# Jumlah kalimat yang duplikat di masing-masing bahasa\n",
        "print('Jumlah kalimat duplikat di ind : ', df_clean.duplicated(subset='ind').sum())\n",
        "print('Jumlah kalimat duplikat di eng : ', df_clean.duplicated(subset='eng').sum())"
      ],
      "metadata": {
        "colab": {
          "base_uri": "https://localhost:8080/"
        },
        "id": "mMm1ZWtnEs0U",
        "outputId": "e148a7e2-2d28-4c2f-b854-9e8d0812139a"
      },
      "execution_count": null,
      "outputs": [
        {
          "output_type": "stream",
          "name": "stdout",
          "text": [
            "Jumlah kalimat duplikat di ind :  1278\n",
            "Jumlah kalimat duplikat di eng :  987\n"
          ]
        }
      ]
    },
    {
      "cell_type": "code",
      "source": [
        "# Untuk tidak menggunakan memori yang terlalu banyak dalam membuat model, kita akan hapus kalimat-kalimat yang duplikat\n",
        "# Tetapi jika tidak dihapus juga tidak apa-apa, karena bisa jadi dalam bahasa indonesia kalimatnya sama tapi dalam bahasa inggris berbeda begitu pun sebaliknya\n",
        "\n",
        "# Menghapus data yang memiliki duplikat pada kolom 'ind' dengan mempertahankan data yang lebih awal\n",
        "df_clean.drop_duplicates(subset='ind', keep='first', inplace=True, ignore_index=True)\n",
        "\n",
        "# Menghapus data yang memiliki duplikat pada kolom 'eng' dengan mempertahankan data yang lebih awal\n",
        "df_clean.drop_duplicates(subset='eng', keep='first', inplace=True, ignore_index=True)\n",
        "\n",
        "print('Jumlah kalimat duplikat di ind : ', df_clean.duplicated(subset='ind').sum())\n",
        "print('Jumlah kalimat duplikat di eng : ', df_clean.duplicated(subset='eng').sum())\n",
        "print('Jumlah data di dataset : ', df_clean.shape[0])"
      ],
      "metadata": {
        "colab": {
          "base_uri": "https://localhost:8080/"
        },
        "id": "ew32LQEKF0N_",
        "outputId": "6b9e92ba-d013-4d8b-9203-50437e94ea95"
      },
      "execution_count": null,
      "outputs": [
        {
          "output_type": "stream",
          "name": "stdout",
          "text": [
            "Jumlah kalimat duplikat di ind :  0\n",
            "Jumlah kalimat duplikat di eng :  0\n",
            "Jumlah data di dataset :  10964\n"
          ]
        }
      ]
    },
    {
      "cell_type": "code",
      "execution_count": null,
      "metadata": {
        "id": "RNAAH1nfnTLT",
        "colab": {
          "base_uri": "https://localhost:8080/"
        },
        "outputId": "2edc87cb-efb0-4152-feb3-6e9081f0fefb"
      },
      "outputs": [
        {
          "output_type": "stream",
          "name": "stdout",
          "text": [
            "Kalimat terpanjang di ind memiliki kata sebanyak :  25\n",
            "Kalimat terpanjang di eng memiliki kata sebanyak :  32\n"
          ]
        }
      ],
      "source": [
        "# Fungsi untuk mencari jumlah kata terbanyak di setiap kalimat\n",
        "def max_lenght_sentences(data):\n",
        "  length = [len(x.split()) for x in data]\n",
        "  return max(length)\n",
        "\n",
        "max_length_ind = max_lenght_sentences(df_clean.ind.values)\n",
        "max_length_eng = max_lenght_sentences(df_clean.eng.values)\n",
        "print('Kalimat terpanjang di ind memiliki kata sebanyak : ', max_length_ind)\n",
        "print('Kalimat terpanjang di eng memiliki kata sebanyak : ', max_length_eng)"
      ]
    },
    {
      "cell_type": "code",
      "source": [
        "# Karena keterbatasan memori yang bisa dipakai, kita hanya akan menggunakan data ind yang memiliki jumlah kata tidak lebih dari 10\n",
        "# fungsi untuk mencari index data yang jumlah katanya tidak lebih dari 10 dan yang terdapat karakter angka\n",
        "def filter_sentence(sentences, threshold):\n",
        "  get_idx = list()\n",
        "  for index, sentence in enumerate(sentences):\n",
        "    if len(sentence.split()) > threshold:\n",
        "      get_idx.append(index)\n",
        "    if any(char.isdigit() for char in sentence) is True and index not in get_idx: # Untuk cek apakah kalimat ada karakter angka\n",
        "      get_idx.append(index)\n",
        "\n",
        "  return get_idx # akan mengembalikan index data yang jumlah katanya lebih dari 10 dan yang memeliki karakter angka\n",
        "\n",
        "# Hapus berdasarkan index yang didapatkan\n",
        "df_clean = df_clean.drop(filter_sentence(df_clean.ind.values, 10), axis=0)\n",
        "\n",
        "max_length_ind = max_lenght_sentences(df_clean.ind.values)\n",
        "max_length_eng = max_lenght_sentences(df_clean.eng.values)\n",
        "print('Kalimat terpanjang di ind memiliki kata sebanyak : ', max_length_ind)\n",
        "print('Kalimat terpanjang di eng memiliki kata sebanyak : ', max_length_eng)\n",
        "print('Jumlah data di dataset : ', df_clean.shape[0])"
      ],
      "metadata": {
        "colab": {
          "base_uri": "https://localhost:8080/"
        },
        "id": "E6D7fpLXXeCR",
        "outputId": "9f8a9d07-95e8-483c-8af9-f0d2a1a503b6"
      },
      "execution_count": null,
      "outputs": [
        {
          "output_type": "stream",
          "name": "stdout",
          "text": [
            "Kalimat terpanjang di ind memiliki kata sebanyak :  10\n",
            "Kalimat terpanjang di eng memiliki kata sebanyak :  17\n",
            "Jumlah data di dataset :  10579\n"
          ]
        }
      ]
    },
    {
      "cell_type": "markdown",
      "source": [
        "# Tokenizer"
      ],
      "metadata": {
        "id": "JV91avr9cSZm"
      }
    },
    {
      "cell_type": "code",
      "source": [
        "from keras.preprocessing.text import Tokenizer\n",
        "\n",
        "# Fungsi untuk melakukan tokenizer\n",
        "def create_tokenizer(data):\n",
        "  tokenizer = Tokenizer()\n",
        "  tokenizer.fit_on_texts(data)\n",
        "  return tokenizer\n",
        "\n",
        "# Acak baris di dataset\n",
        "df_clean = df_clean.sample(frac=1).reset_index(drop=True)\n",
        "\n",
        "# Ubah data ind dan eng menjadi array satu dimensi\n",
        "bhs_ind = df_clean.ind.values\n",
        "bhs_eng = df_clean.eng.values\n",
        "\n",
        "# Melakukan tokenizer\n",
        "token_ind = create_tokenizer(bhs_ind)\n",
        "token_eng = create_tokenizer(bhs_eng)\n",
        "\n",
        "# Jumlah kosakata\n",
        "vocab_ind_size = len(token_ind.word_index)\n",
        "vocab_eng_size = len(token_eng.word_index)\n",
        "\n",
        "print('Dataset ind mempunyai kosakata sebanyak : ', vocab_ind_size)\n",
        "print('Dataset eng mempunyai kosakata sebanyak : ', vocab_eng_size)"
      ],
      "metadata": {
        "colab": {
          "base_uri": "https://localhost:8080/"
        },
        "id": "gb685vCmcZTi",
        "outputId": "0cef2325-de7b-482f-a96b-abe3698b5e43"
      },
      "execution_count": null,
      "outputs": [
        {
          "output_type": "stream",
          "name": "stdout",
          "text": [
            "Dataset ind mempunyai kosakata sebanyak :  5396\n",
            "Dataset eng mempunyai kosakata sebanyak :  4630\n"
          ]
        }
      ]
    },
    {
      "cell_type": "markdown",
      "source": [
        "# Vectorizer"
      ],
      "metadata": {
        "id": "YizsyQCNPa69"
      }
    },
    {
      "cell_type": "code",
      "execution_count": null,
      "metadata": {
        "id": "CpfnN-FssLZA",
        "colab": {
          "base_uri": "https://localhost:8080/"
        },
        "outputId": "b8d39b18-5555-48c4-ec8b-30764a43af2c"
      },
      "outputs": [
        {
          "output_type": "stream",
          "name": "stdout",
          "text": [
            "Sebelum dilakukan vectorizer :\n",
            "=> tom pergi mengamati burung\n",
            "Setelah dilakukan vectorizer :\n",
            "=> [   1   24 2995  351    0    0    0    0    0    0]\n"
          ]
        }
      ],
      "source": [
        "from keras.preprocessing.sequence import pad_sequences\n",
        "\n",
        "# Fungsi untuk mengubah data menjadi vektor\n",
        "def encode_sequences(tokenizer, data, max_lenght_sentences):\n",
        "  vector_bhs = tokenizer.texts_to_sequences(data)\n",
        "  vector_bhs = pad_sequences(vector_bhs, maxlen=max_lenght_sentences, padding='post')\n",
        "  return vector_bhs\n",
        "\n",
        "# Melakukan vectorizer\n",
        "# parameter max_lenght kita gunakan yang paling besar yaitu 17 miliki eng\n",
        "vector_ind = encode_sequences(token_ind, bhs_ind, max_length_ind)\n",
        "vector_eng = encode_sequences(token_eng, bhs_eng, max_length_eng)\n",
        "\n",
        "print(\"Sebelum dilakukan vectorizer :\\n=>\",bhs_ind[900])\n",
        "print(\"Setelah dilakukan vectorizer :\\n=>\",vector_ind[900])"
      ]
    },
    {
      "cell_type": "markdown",
      "source": [
        "# Model"
      ],
      "metadata": {
        "id": "fgrvvFC21K_t"
      }
    },
    {
      "cell_type": "code",
      "execution_count": null,
      "metadata": {
        "id": "e2eloZ1ED5dZ"
      },
      "outputs": [],
      "source": [
        "from keras.models import Sequential\n",
        "from keras.layers import Dense, LSTM, TimeDistributed, Embedding, RepeatVector, Bidirectional, Dropout, GRU\n",
        "\n",
        "model = Sequential()\n",
        "model.add(Embedding(vocab_ind_size+1, 256, input_length = vector_ind.shape[1], input_shape=vector_ind.shape[1:]))\n",
        "model.add(Bidirectional(GRU(256)))\n",
        "model.add(RepeatVector(max_length_eng))\n",
        "model.add(Bidirectional(GRU(256, return_sequences=True)))\n",
        "model.add(TimeDistributed(Dense(1024,activation='linear')))\n",
        "model.add(Dropout(0.5))\n",
        "model.add(TimeDistributed(Dense(vocab_eng_size+1,activation='softmax')))"
      ]
    },
    {
      "cell_type": "code",
      "execution_count": null,
      "metadata": {
        "colab": {
          "base_uri": "https://localhost:8080/"
        },
        "id": "3rDn8OJ6WQtY",
        "outputId": "7f72c806-621f-4185-ba92-3d2cfb70b101"
      },
      "outputs": [
        {
          "output_type": "stream",
          "name": "stdout",
          "text": [
            "Model: \"sequential\"\n",
            "_________________________________________________________________\n",
            " Layer (type)                Output Shape              Param #   \n",
            "=================================================================\n",
            " embedding (Embedding)       (None, 10, 256)           1381632   \n",
            "                                                                 \n",
            " bidirectional (Bidirection  (None, 512)               789504    \n",
            " al)                                                             \n",
            "                                                                 \n",
            " repeat_vector (RepeatVecto  (None, 17, 512)           0         \n",
            " r)                                                              \n",
            "                                                                 \n",
            " bidirectional_1 (Bidirecti  (None, 17, 512)           1182720   \n",
            " onal)                                                           \n",
            "                                                                 \n",
            " time_distributed (TimeDist  (None, 17, 1024)          525312    \n",
            " ributed)                                                        \n",
            "                                                                 \n",
            " dropout (Dropout)           (None, 17, 1024)          0         \n",
            "                                                                 \n",
            " time_distributed_1 (TimeDi  (None, 17, 4631)          4746775   \n",
            " stributed)                                                      \n",
            "                                                                 \n",
            "=================================================================\n",
            "Total params: 8625943 (32.91 MB)\n",
            "Trainable params: 8625943 (32.91 MB)\n",
            "Non-trainable params: 0 (0.00 Byte)\n",
            "_________________________________________________________________\n"
          ]
        }
      ],
      "source": [
        "from keras.optimizers import Adam\n",
        "from keras.losses import sparse_categorical_crossentropy\n",
        "\n",
        "model.compile(loss= sparse_categorical_crossentropy, optimizer=Adam(learning_rate=0.001), metrics= ['accuracy'])\n",
        "model.summary()"
      ]
    },
    {
      "cell_type": "code",
      "execution_count": null,
      "metadata": {
        "colab": {
          "base_uri": "https://localhost:8080/"
        },
        "id": "qFwY8ABLYZK7",
        "outputId": "af4e3a43-fec9-4251-a278-794fa1ebf026"
      },
      "outputs": [
        {
          "output_type": "stream",
          "name": "stdout",
          "text": [
            "Epoch 1/30\n",
            "1693/1693 [==============================] - 37s 15ms/step - loss: 2.1656 - accuracy: 0.7009 - val_loss: 1.9354 - val_accuracy: 0.7199\n",
            "Epoch 2/30\n",
            "1693/1693 [==============================] - 21s 12ms/step - loss: 1.8242 - accuracy: 0.7248 - val_loss: 1.7623 - val_accuracy: 0.7326\n",
            "Epoch 3/30\n",
            "1693/1693 [==============================] - 22s 13ms/step - loss: 1.5724 - accuracy: 0.7422 - val_loss: 1.6398 - val_accuracy: 0.7425\n",
            "Epoch 4/30\n",
            "1693/1693 [==============================] - 21s 12ms/step - loss: 1.3564 - accuracy: 0.7575 - val_loss: 1.5587 - val_accuracy: 0.7522\n",
            "Epoch 5/30\n",
            "1693/1693 [==============================] - 22s 13ms/step - loss: 1.1819 - accuracy: 0.7727 - val_loss: 1.5507 - val_accuracy: 0.7494\n",
            "Epoch 6/30\n",
            "1693/1693 [==============================] - 21s 13ms/step - loss: 1.0384 - accuracy: 0.7863 - val_loss: 1.5391 - val_accuracy: 0.7579\n",
            "Epoch 7/30\n",
            "1693/1693 [==============================] - 22s 13ms/step - loss: 0.9209 - accuracy: 0.7989 - val_loss: 1.5538 - val_accuracy: 0.7542\n",
            "Epoch 8/30\n",
            "1693/1693 [==============================] - 21s 12ms/step - loss: 0.8196 - accuracy: 0.8138 - val_loss: 1.5923 - val_accuracy: 0.7573\n",
            "Epoch 9/30\n",
            "1693/1693 [==============================] - 21s 13ms/step - loss: 0.7371 - accuracy: 0.8245 - val_loss: 1.6301 - val_accuracy: 0.7583\n",
            "Epoch 10/30\n",
            "1693/1693 [==============================] - 20s 12ms/step - loss: 0.6651 - accuracy: 0.8372 - val_loss: 1.6947 - val_accuracy: 0.7580\n",
            "Epoch 11/30\n",
            "1693/1693 [==============================] - 21s 12ms/step - loss: 0.6050 - accuracy: 0.8482 - val_loss: 1.6851 - val_accuracy: 0.7596\n",
            "Epoch 12/30\n",
            "1693/1693 [==============================] - 21s 12ms/step - loss: 0.5618 - accuracy: 0.8572 - val_loss: 1.7161 - val_accuracy: 0.7594\n",
            "Epoch 13/30\n",
            "1693/1693 [==============================] - 21s 12ms/step - loss: 0.5189 - accuracy: 0.8659 - val_loss: 1.7782 - val_accuracy: 0.7615\n",
            "Epoch 14/30\n",
            "1693/1693 [==============================] - 22s 13ms/step - loss: 0.4792 - accuracy: 0.8746 - val_loss: 1.8723 - val_accuracy: 0.7618\n",
            "Epoch 15/30\n",
            "1693/1693 [==============================] - 20s 12ms/step - loss: 0.4511 - accuracy: 0.8820 - val_loss: 1.8692 - val_accuracy: 0.7615\n",
            "Epoch 16/30\n",
            "1693/1693 [==============================] - 22s 13ms/step - loss: 0.4248 - accuracy: 0.8888 - val_loss: 1.8925 - val_accuracy: 0.7598\n",
            "Epoch 17/30\n",
            "1693/1693 [==============================] - 20s 12ms/step - loss: 0.4018 - accuracy: 0.8940 - val_loss: 1.9631 - val_accuracy: 0.7596\n",
            "Epoch 18/30\n",
            "1693/1693 [==============================] - 21s 13ms/step - loss: 0.3899 - accuracy: 0.8977 - val_loss: 1.9126 - val_accuracy: 0.7603\n",
            "Epoch 19/30\n",
            "1693/1693 [==============================] - 20s 12ms/step - loss: 0.3565 - accuracy: 0.9066 - val_loss: 1.9575 - val_accuracy: 0.7586\n",
            "Epoch 20/30\n",
            "1693/1693 [==============================] - 21s 12ms/step - loss: 0.3477 - accuracy: 0.9088 - val_loss: 1.9886 - val_accuracy: 0.7577\n",
            "Epoch 21/30\n",
            "1693/1693 [==============================] - 21s 12ms/step - loss: 0.3326 - accuracy: 0.9121 - val_loss: 2.0168 - val_accuracy: 0.7607\n",
            "Epoch 22/30\n",
            "1693/1693 [==============================] - 21s 13ms/step - loss: 0.3201 - accuracy: 0.9161 - val_loss: 2.0670 - val_accuracy: 0.7605\n",
            "Epoch 23/30\n",
            "1693/1693 [==============================] - 22s 13ms/step - loss: 0.3007 - accuracy: 0.9209 - val_loss: 2.1160 - val_accuracy: 0.7571\n",
            "Epoch 24/30\n",
            "1693/1693 [==============================] - 21s 12ms/step - loss: 0.2936 - accuracy: 0.9232 - val_loss: 2.1527 - val_accuracy: 0.7571\n",
            "Epoch 25/30\n",
            "1693/1693 [==============================] - 21s 13ms/step - loss: 0.2856 - accuracy: 0.9255 - val_loss: 2.0649 - val_accuracy: 0.7593\n",
            "Epoch 26/30\n",
            "1693/1693 [==============================] - 20s 12ms/step - loss: 0.2661 - accuracy: 0.9304 - val_loss: 2.1442 - val_accuracy: 0.7621\n",
            "Epoch 27/30\n",
            "1693/1693 [==============================] - 22s 13ms/step - loss: 0.2611 - accuracy: 0.9307 - val_loss: 2.1495 - val_accuracy: 0.7604\n",
            "Epoch 28/30\n",
            "1693/1693 [==============================] - 20s 12ms/step - loss: 0.2563 - accuracy: 0.9333 - val_loss: 2.1839 - val_accuracy: 0.7611\n",
            "Epoch 29/30\n",
            "1693/1693 [==============================] - 21s 13ms/step - loss: 0.2489 - accuracy: 0.9351 - val_loss: 2.2347 - val_accuracy: 0.7620\n",
            "Epoch 30/30\n",
            "1693/1693 [==============================] - 21s 12ms/step - loss: 0.2455 - accuracy: 0.9362 - val_loss: 2.2170 - val_accuracy: 0.7598\n"
          ]
        }
      ],
      "source": [
        "history = model.fit(vector_ind, vector_eng, batch_size=5, epochs=30, validation_split=0.2)"
      ]
    },
    {
      "cell_type": "markdown",
      "source": [
        "# Prediksi"
      ],
      "metadata": {
        "id": "prAbpCR0F43b"
      }
    },
    {
      "cell_type": "code",
      "execution_count": null,
      "metadata": {
        "id": "PVl3QKJrYt-H"
      },
      "outputs": [],
      "source": [
        "def logits_to_text(logits, tokenizer):\n",
        "  index_to_words = {id: word for word, id in tokenizer.word_index.items()}\n",
        "  index_to_words[0] = ''\n",
        "  return ' '.join([index_to_words[prediction] for prediction in np.argmax(logits, 1)])"
      ]
    },
    {
      "cell_type": "code",
      "execution_count": null,
      "metadata": {
        "colab": {
          "base_uri": "https://localhost:8080/"
        },
        "id": "nYS7Xq0aeXnc",
        "outputId": "3bf26001-cebb-471a-fc32-35176cfef20c"
      },
      "outputs": [
        {
          "output_type": "stream",
          "name": "stdout",
          "text": [
            "1/1 [==============================] - 0s 27ms/step\n",
            "tom left to you you three hours accident         \n"
          ]
        }
      ],
      "source": [
        "kalimat_test = ['tom pergi untuk menemuimu tiga jam yang lalu']\n",
        "vector_test = encode_sequences(token_ind, kalimat_test, max_length_ind)\n",
        "y_pred = model.predict(vector_test)\n",
        "print(logits_to_text(y_pred[0], token_eng))"
      ]
    },
    {
      "cell_type": "code",
      "source": [
        "df_clean.iloc[8000,1]"
      ],
      "metadata": {
        "id": "ilaz3K29rXtV",
        "colab": {
          "base_uri": "https://localhost:8080/",
          "height": 36
        },
        "outputId": "5872a1bb-fc3e-4c01-f3f9-2de44e48007c"
      },
      "execution_count": null,
      "outputs": [
        {
          "output_type": "execute_result",
          "data": {
            "text/plain": [
              "'tom left to meet you three hours ago'"
            ],
            "application/vnd.google.colaboratory.intrinsic+json": {
              "type": "string"
            }
          },
          "metadata": {},
          "execution_count": 28
        }
      ]
    },
    {
      "cell_type": "markdown",
      "source": [
        "# Evaluasi"
      ],
      "metadata": {
        "id": "vea-I2yVAG7S"
      }
    },
    {
      "cell_type": "markdown",
      "source": [
        "Untuk melakukan evaluasi dalam contoh kasus translasi text ini bisa menggunakan BLUE score. Teman-teman bisa mempelajarinya di refrensi link ini https://machinelearningmastery.com/calculate-bleu-score-for-text-python/"
      ],
      "metadata": {
        "id": "i8RuCD2XEwvS"
      }
    }
  ],
  "metadata": {
    "accelerator": "GPU",
    "colab": {
      "provenance": []
    },
    "kernelspec": {
      "display_name": "Python 3",
      "name": "python3"
    },
    "language_info": {
      "name": "python"
    }
  },
  "nbformat": 4,
  "nbformat_minor": 0
}