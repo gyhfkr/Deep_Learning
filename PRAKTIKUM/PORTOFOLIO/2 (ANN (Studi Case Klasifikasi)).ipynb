{
  "cells": [
    {
      "cell_type": "markdown",
      "id": "8e5fc55b",
      "metadata": {
        "id": "8e5fc55b"
      },
      "source": [
        "<h1 style=\"text-align:center\">ANN (Studi Case Klasifikasi) | KLASIFIKASI 2 KELAS</h1>"
      ]
    },
    {
      "cell_type": "markdown",
      "source": [
        "NAMA : GAYUH FIKRI KHUSNAELI\n",
        "\n",
        "NIM : 21110024"
      ],
      "metadata": {
        "id": "mrYSeTBepB9L"
      },
      "id": "mrYSeTBepB9L"
    },
    {
      "cell_type": "markdown",
      "id": "57aea2ef",
      "metadata": {
        "id": "57aea2ef"
      },
      "source": [
        "### Activation pada Dense\n",
        "\n",
        "Setelah kita melakukan regresi menggunakan activation `relu` dan `linear`, pada pertemuan kali ini, kita akan mencoba melakukan klasifikasi menggunakan Dense dengan 2 jenis activation yang berbeda yaitu\n",
        "\n",
        "1.   `sigmoid`\n",
        "2.   `softmax`\n",
        "\n",
        "Jika `linear` kita pergunakan untuk output yang berupa `float`, maka `sigmoid` dan `softmax` kita pergunakan untuk kasus klasifikasi dengan hasil dalam bentuk persentase."
      ]
    },
    {
      "cell_type": "markdown",
      "id": "7749f6a5",
      "metadata": {
        "id": "7749f6a5"
      },
      "source": [
        "# Sigmoid\n",
        "\n",
        "`sigmoid` kita pergunakan jika kelas yang kita klasifikasikan/kategorikan hanya berjumlah 2 kelas saja. Istilah lainnya untuk kasus ini adalah kasus biner atau binary. Contohnya, kelas `ya` dan `tidak`, atau kelas `cowok` dan `cewek`, atau kelas `sehat` dan `sakit`, dan seterusnya. Tentu saja, kelas-kelas ini haruslah kita representasikan dalam bentuk `0` dan `1`."
      ]
    },
    {
      "cell_type": "markdown",
      "id": "21576bc8",
      "metadata": {
        "id": "21576bc8"
      },
      "source": [
        "# Persiapan Data"
      ]
    },
    {
      "cell_type": "code",
      "execution_count": null,
      "id": "a2a3395b",
      "metadata": {
        "colab": {
          "base_uri": "https://localhost:8080/",
          "height": 443
        },
        "id": "a2a3395b",
        "outputId": "bf9b17ce-ec7e-46ff-e79b-7c0a2fa5d5bf"
      },
      "outputs": [
        {
          "output_type": "execute_result",
          "data": {
            "text/plain": [
              "            x1        x2        x3        x4        x5        x6        x7  \\\n",
              "0     0.633563  0.357385 -0.503931  0.935066  0.647981 -0.050796 -1.933989   \n",
              "1     1.283905  1.109459 -0.908953  1.006586  0.492219  1.107295  1.243526   \n",
              "2    -0.966476 -0.593314  0.458020  1.032323  1.283685 -0.317640  1.499045   \n",
              "3     2.429309 -1.306530 -1.869925  3.092164  2.028800 -0.879635 -0.393494   \n",
              "4    -1.204798  0.078464  0.705181  0.224765  0.618707  1.534946 -0.302288   \n",
              "...        ...       ...       ...       ...       ...       ...       ...   \n",
              "9995 -1.606404  0.228927  0.959690  0.145821  0.682755 -0.927143 -0.280438   \n",
              "9996  1.154048 -0.120265 -0.643621 -0.467386 -0.825604  0.725398 -1.439272   \n",
              "9997  0.841468 -0.593749 -0.391671 -0.955036 -1.169619  0.683856 -1.629486   \n",
              "9998  1.080252 -0.607761 -0.488605 -1.338506 -1.605447 -1.689724  0.202908   \n",
              "9999 -1.205338 -1.719647  0.994358 -2.060993 -1.493417 -0.664010  0.718480   \n",
              "\n",
              "            x8        x9       x10  y  \n",
              "0     2.081684  0.041266 -0.258298  1  \n",
              "1    -0.172200  1.150359  0.147744  1  \n",
              "2     0.434477  0.423678  1.251380  1  \n",
              "3    -0.101213 -1.624066  0.443553  1  \n",
              "4     2.325055  0.495505  0.538133  0  \n",
              "...        ...       ...       ... ..  \n",
              "9995  0.789222 -1.330100 -1.463687  0  \n",
              "9996 -1.132146  1.511610 -0.114986  0  \n",
              "9997  0.289335 -0.434358 -1.271335  0  \n",
              "9998  0.291496  0.827980 -1.069399  0  \n",
              "9999 -0.305819 -1.405728 -0.703207  0  \n",
              "\n",
              "[10000 rows x 11 columns]"
            ],
            "text/html": [
              "\n",
              "  <div id=\"df-46bd8840-398d-44b6-8cb5-2d510a11c41f\" class=\"colab-df-container\">\n",
              "    <div>\n",
              "<style scoped>\n",
              "    .dataframe tbody tr th:only-of-type {\n",
              "        vertical-align: middle;\n",
              "    }\n",
              "\n",
              "    .dataframe tbody tr th {\n",
              "        vertical-align: top;\n",
              "    }\n",
              "\n",
              "    .dataframe thead th {\n",
              "        text-align: right;\n",
              "    }\n",
              "</style>\n",
              "<table border=\"1\" class=\"dataframe\">\n",
              "  <thead>\n",
              "    <tr style=\"text-align: right;\">\n",
              "      <th></th>\n",
              "      <th>x1</th>\n",
              "      <th>x2</th>\n",
              "      <th>x3</th>\n",
              "      <th>x4</th>\n",
              "      <th>x5</th>\n",
              "      <th>x6</th>\n",
              "      <th>x7</th>\n",
              "      <th>x8</th>\n",
              "      <th>x9</th>\n",
              "      <th>x10</th>\n",
              "      <th>y</th>\n",
              "    </tr>\n",
              "  </thead>\n",
              "  <tbody>\n",
              "    <tr>\n",
              "      <th>0</th>\n",
              "      <td>0.633563</td>\n",
              "      <td>0.357385</td>\n",
              "      <td>-0.503931</td>\n",
              "      <td>0.935066</td>\n",
              "      <td>0.647981</td>\n",
              "      <td>-0.050796</td>\n",
              "      <td>-1.933989</td>\n",
              "      <td>2.081684</td>\n",
              "      <td>0.041266</td>\n",
              "      <td>-0.258298</td>\n",
              "      <td>1</td>\n",
              "    </tr>\n",
              "    <tr>\n",
              "      <th>1</th>\n",
              "      <td>1.283905</td>\n",
              "      <td>1.109459</td>\n",
              "      <td>-0.908953</td>\n",
              "      <td>1.006586</td>\n",
              "      <td>0.492219</td>\n",
              "      <td>1.107295</td>\n",
              "      <td>1.243526</td>\n",
              "      <td>-0.172200</td>\n",
              "      <td>1.150359</td>\n",
              "      <td>0.147744</td>\n",
              "      <td>1</td>\n",
              "    </tr>\n",
              "    <tr>\n",
              "      <th>2</th>\n",
              "      <td>-0.966476</td>\n",
              "      <td>-0.593314</td>\n",
              "      <td>0.458020</td>\n",
              "      <td>1.032323</td>\n",
              "      <td>1.283685</td>\n",
              "      <td>-0.317640</td>\n",
              "      <td>1.499045</td>\n",
              "      <td>0.434477</td>\n",
              "      <td>0.423678</td>\n",
              "      <td>1.251380</td>\n",
              "      <td>1</td>\n",
              "    </tr>\n",
              "    <tr>\n",
              "      <th>3</th>\n",
              "      <td>2.429309</td>\n",
              "      <td>-1.306530</td>\n",
              "      <td>-1.869925</td>\n",
              "      <td>3.092164</td>\n",
              "      <td>2.028800</td>\n",
              "      <td>-0.879635</td>\n",
              "      <td>-0.393494</td>\n",
              "      <td>-0.101213</td>\n",
              "      <td>-1.624066</td>\n",
              "      <td>0.443553</td>\n",
              "      <td>1</td>\n",
              "    </tr>\n",
              "    <tr>\n",
              "      <th>4</th>\n",
              "      <td>-1.204798</td>\n",
              "      <td>0.078464</td>\n",
              "      <td>0.705181</td>\n",
              "      <td>0.224765</td>\n",
              "      <td>0.618707</td>\n",
              "      <td>1.534946</td>\n",
              "      <td>-0.302288</td>\n",
              "      <td>2.325055</td>\n",
              "      <td>0.495505</td>\n",
              "      <td>0.538133</td>\n",
              "      <td>0</td>\n",
              "    </tr>\n",
              "    <tr>\n",
              "      <th>...</th>\n",
              "      <td>...</td>\n",
              "      <td>...</td>\n",
              "      <td>...</td>\n",
              "      <td>...</td>\n",
              "      <td>...</td>\n",
              "      <td>...</td>\n",
              "      <td>...</td>\n",
              "      <td>...</td>\n",
              "      <td>...</td>\n",
              "      <td>...</td>\n",
              "      <td>...</td>\n",
              "    </tr>\n",
              "    <tr>\n",
              "      <th>9995</th>\n",
              "      <td>-1.606404</td>\n",
              "      <td>0.228927</td>\n",
              "      <td>0.959690</td>\n",
              "      <td>0.145821</td>\n",
              "      <td>0.682755</td>\n",
              "      <td>-0.927143</td>\n",
              "      <td>-0.280438</td>\n",
              "      <td>0.789222</td>\n",
              "      <td>-1.330100</td>\n",
              "      <td>-1.463687</td>\n",
              "      <td>0</td>\n",
              "    </tr>\n",
              "    <tr>\n",
              "      <th>9996</th>\n",
              "      <td>1.154048</td>\n",
              "      <td>-0.120265</td>\n",
              "      <td>-0.643621</td>\n",
              "      <td>-0.467386</td>\n",
              "      <td>-0.825604</td>\n",
              "      <td>0.725398</td>\n",
              "      <td>-1.439272</td>\n",
              "      <td>-1.132146</td>\n",
              "      <td>1.511610</td>\n",
              "      <td>-0.114986</td>\n",
              "      <td>0</td>\n",
              "    </tr>\n",
              "    <tr>\n",
              "      <th>9997</th>\n",
              "      <td>0.841468</td>\n",
              "      <td>-0.593749</td>\n",
              "      <td>-0.391671</td>\n",
              "      <td>-0.955036</td>\n",
              "      <td>-1.169619</td>\n",
              "      <td>0.683856</td>\n",
              "      <td>-1.629486</td>\n",
              "      <td>0.289335</td>\n",
              "      <td>-0.434358</td>\n",
              "      <td>-1.271335</td>\n",
              "      <td>0</td>\n",
              "    </tr>\n",
              "    <tr>\n",
              "      <th>9998</th>\n",
              "      <td>1.080252</td>\n",
              "      <td>-0.607761</td>\n",
              "      <td>-0.488605</td>\n",
              "      <td>-1.338506</td>\n",
              "      <td>-1.605447</td>\n",
              "      <td>-1.689724</td>\n",
              "      <td>0.202908</td>\n",
              "      <td>0.291496</td>\n",
              "      <td>0.827980</td>\n",
              "      <td>-1.069399</td>\n",
              "      <td>0</td>\n",
              "    </tr>\n",
              "    <tr>\n",
              "      <th>9999</th>\n",
              "      <td>-1.205338</td>\n",
              "      <td>-1.719647</td>\n",
              "      <td>0.994358</td>\n",
              "      <td>-2.060993</td>\n",
              "      <td>-1.493417</td>\n",
              "      <td>-0.664010</td>\n",
              "      <td>0.718480</td>\n",
              "      <td>-0.305819</td>\n",
              "      <td>-1.405728</td>\n",
              "      <td>-0.703207</td>\n",
              "      <td>0</td>\n",
              "    </tr>\n",
              "  </tbody>\n",
              "</table>\n",
              "<p>10000 rows × 11 columns</p>\n",
              "</div>\n",
              "    <div class=\"colab-df-buttons\">\n",
              "\n",
              "  <div class=\"colab-df-container\">\n",
              "    <button class=\"colab-df-convert\" onclick=\"convertToInteractive('df-46bd8840-398d-44b6-8cb5-2d510a11c41f')\"\n",
              "            title=\"Convert this dataframe to an interactive table.\"\n",
              "            style=\"display:none;\">\n",
              "\n",
              "  <svg xmlns=\"http://www.w3.org/2000/svg\" height=\"24px\" viewBox=\"0 -960 960 960\">\n",
              "    <path d=\"M120-120v-720h720v720H120Zm60-500h600v-160H180v160Zm220 220h160v-160H400v160Zm0 220h160v-160H400v160ZM180-400h160v-160H180v160Zm440 0h160v-160H620v160ZM180-180h160v-160H180v160Zm440 0h160v-160H620v160Z\"/>\n",
              "  </svg>\n",
              "    </button>\n",
              "\n",
              "  <style>\n",
              "    .colab-df-container {\n",
              "      display:flex;\n",
              "      gap: 12px;\n",
              "    }\n",
              "\n",
              "    .colab-df-convert {\n",
              "      background-color: #E8F0FE;\n",
              "      border: none;\n",
              "      border-radius: 50%;\n",
              "      cursor: pointer;\n",
              "      display: none;\n",
              "      fill: #1967D2;\n",
              "      height: 32px;\n",
              "      padding: 0 0 0 0;\n",
              "      width: 32px;\n",
              "    }\n",
              "\n",
              "    .colab-df-convert:hover {\n",
              "      background-color: #E2EBFA;\n",
              "      box-shadow: 0px 1px 2px rgba(60, 64, 67, 0.3), 0px 1px 3px 1px rgba(60, 64, 67, 0.15);\n",
              "      fill: #174EA6;\n",
              "    }\n",
              "\n",
              "    .colab-df-buttons div {\n",
              "      margin-bottom: 4px;\n",
              "    }\n",
              "\n",
              "    [theme=dark] .colab-df-convert {\n",
              "      background-color: #3B4455;\n",
              "      fill: #D2E3FC;\n",
              "    }\n",
              "\n",
              "    [theme=dark] .colab-df-convert:hover {\n",
              "      background-color: #434B5C;\n",
              "      box-shadow: 0px 1px 3px 1px rgba(0, 0, 0, 0.15);\n",
              "      filter: drop-shadow(0px 1px 2px rgba(0, 0, 0, 0.3));\n",
              "      fill: #FFFFFF;\n",
              "    }\n",
              "  </style>\n",
              "\n",
              "    <script>\n",
              "      const buttonEl =\n",
              "        document.querySelector('#df-46bd8840-398d-44b6-8cb5-2d510a11c41f button.colab-df-convert');\n",
              "      buttonEl.style.display =\n",
              "        google.colab.kernel.accessAllowed ? 'block' : 'none';\n",
              "\n",
              "      async function convertToInteractive(key) {\n",
              "        const element = document.querySelector('#df-46bd8840-398d-44b6-8cb5-2d510a11c41f');\n",
              "        const dataTable =\n",
              "          await google.colab.kernel.invokeFunction('convertToInteractive',\n",
              "                                                    [key], {});\n",
              "        if (!dataTable) return;\n",
              "\n",
              "        const docLinkHtml = 'Like what you see? Visit the ' +\n",
              "          '<a target=\"_blank\" href=https://colab.research.google.com/notebooks/data_table.ipynb>data table notebook</a>'\n",
              "          + ' to learn more about interactive tables.';\n",
              "        element.innerHTML = '';\n",
              "        dataTable['output_type'] = 'display_data';\n",
              "        await google.colab.output.renderOutput(dataTable, element);\n",
              "        const docLink = document.createElement('div');\n",
              "        docLink.innerHTML = docLinkHtml;\n",
              "        element.appendChild(docLink);\n",
              "      }\n",
              "    </script>\n",
              "  </div>\n",
              "\n",
              "\n",
              "<div id=\"df-88ff5b84-6476-427d-838e-da7e273120a4\">\n",
              "  <button class=\"colab-df-quickchart\" onclick=\"quickchart('df-88ff5b84-6476-427d-838e-da7e273120a4')\"\n",
              "            title=\"Suggest charts.\"\n",
              "            style=\"display:none;\">\n",
              "\n",
              "<svg xmlns=\"http://www.w3.org/2000/svg\" height=\"24px\"viewBox=\"0 0 24 24\"\n",
              "     width=\"24px\">\n",
              "    <g>\n",
              "        <path d=\"M19 3H5c-1.1 0-2 .9-2 2v14c0 1.1.9 2 2 2h14c1.1 0 2-.9 2-2V5c0-1.1-.9-2-2-2zM9 17H7v-7h2v7zm4 0h-2V7h2v10zm4 0h-2v-4h2v4z\"/>\n",
              "    </g>\n",
              "</svg>\n",
              "  </button>\n",
              "\n",
              "<style>\n",
              "  .colab-df-quickchart {\n",
              "      --bg-color: #E8F0FE;\n",
              "      --fill-color: #1967D2;\n",
              "      --hover-bg-color: #E2EBFA;\n",
              "      --hover-fill-color: #174EA6;\n",
              "      --disabled-fill-color: #AAA;\n",
              "      --disabled-bg-color: #DDD;\n",
              "  }\n",
              "\n",
              "  [theme=dark] .colab-df-quickchart {\n",
              "      --bg-color: #3B4455;\n",
              "      --fill-color: #D2E3FC;\n",
              "      --hover-bg-color: #434B5C;\n",
              "      --hover-fill-color: #FFFFFF;\n",
              "      --disabled-bg-color: #3B4455;\n",
              "      --disabled-fill-color: #666;\n",
              "  }\n",
              "\n",
              "  .colab-df-quickchart {\n",
              "    background-color: var(--bg-color);\n",
              "    border: none;\n",
              "    border-radius: 50%;\n",
              "    cursor: pointer;\n",
              "    display: none;\n",
              "    fill: var(--fill-color);\n",
              "    height: 32px;\n",
              "    padding: 0;\n",
              "    width: 32px;\n",
              "  }\n",
              "\n",
              "  .colab-df-quickchart:hover {\n",
              "    background-color: var(--hover-bg-color);\n",
              "    box-shadow: 0 1px 2px rgba(60, 64, 67, 0.3), 0 1px 3px 1px rgba(60, 64, 67, 0.15);\n",
              "    fill: var(--button-hover-fill-color);\n",
              "  }\n",
              "\n",
              "  .colab-df-quickchart-complete:disabled,\n",
              "  .colab-df-quickchart-complete:disabled:hover {\n",
              "    background-color: var(--disabled-bg-color);\n",
              "    fill: var(--disabled-fill-color);\n",
              "    box-shadow: none;\n",
              "  }\n",
              "\n",
              "  .colab-df-spinner {\n",
              "    border: 2px solid var(--fill-color);\n",
              "    border-color: transparent;\n",
              "    border-bottom-color: var(--fill-color);\n",
              "    animation:\n",
              "      spin 1s steps(1) infinite;\n",
              "  }\n",
              "\n",
              "  @keyframes spin {\n",
              "    0% {\n",
              "      border-color: transparent;\n",
              "      border-bottom-color: var(--fill-color);\n",
              "      border-left-color: var(--fill-color);\n",
              "    }\n",
              "    20% {\n",
              "      border-color: transparent;\n",
              "      border-left-color: var(--fill-color);\n",
              "      border-top-color: var(--fill-color);\n",
              "    }\n",
              "    30% {\n",
              "      border-color: transparent;\n",
              "      border-left-color: var(--fill-color);\n",
              "      border-top-color: var(--fill-color);\n",
              "      border-right-color: var(--fill-color);\n",
              "    }\n",
              "    40% {\n",
              "      border-color: transparent;\n",
              "      border-right-color: var(--fill-color);\n",
              "      border-top-color: var(--fill-color);\n",
              "    }\n",
              "    60% {\n",
              "      border-color: transparent;\n",
              "      border-right-color: var(--fill-color);\n",
              "    }\n",
              "    80% {\n",
              "      border-color: transparent;\n",
              "      border-right-color: var(--fill-color);\n",
              "      border-bottom-color: var(--fill-color);\n",
              "    }\n",
              "    90% {\n",
              "      border-color: transparent;\n",
              "      border-bottom-color: var(--fill-color);\n",
              "    }\n",
              "  }\n",
              "</style>\n",
              "\n",
              "  <script>\n",
              "    async function quickchart(key) {\n",
              "      const quickchartButtonEl =\n",
              "        document.querySelector('#' + key + ' button');\n",
              "      quickchartButtonEl.disabled = true;  // To prevent multiple clicks.\n",
              "      quickchartButtonEl.classList.add('colab-df-spinner');\n",
              "      try {\n",
              "        const charts = await google.colab.kernel.invokeFunction(\n",
              "            'suggestCharts', [key], {});\n",
              "      } catch (error) {\n",
              "        console.error('Error during call to suggestCharts:', error);\n",
              "      }\n",
              "      quickchartButtonEl.classList.remove('colab-df-spinner');\n",
              "      quickchartButtonEl.classList.add('colab-df-quickchart-complete');\n",
              "    }\n",
              "    (() => {\n",
              "      let quickchartButtonEl =\n",
              "        document.querySelector('#df-88ff5b84-6476-427d-838e-da7e273120a4 button');\n",
              "      quickchartButtonEl.style.display =\n",
              "        google.colab.kernel.accessAllowed ? 'block' : 'none';\n",
              "    })();\n",
              "  </script>\n",
              "</div>\n",
              "    </div>\n",
              "  </div>\n"
            ]
          },
          "metadata": {},
          "execution_count": 1
        }
      ],
      "source": [
        "import pandas as pd\n",
        "\n",
        "df = pd.read_csv(\"/content/dataset_klasifikasi_biner.csv\")\n",
        "df"
      ]
    },
    {
      "cell_type": "markdown",
      "id": "3e15b84c",
      "metadata": {
        "id": "3e15b84c"
      },
      "source": [
        "# Membagi Dataset"
      ]
    },
    {
      "cell_type": "code",
      "execution_count": null,
      "id": "2ea14d1e",
      "metadata": {
        "colab": {
          "base_uri": "https://localhost:8080/"
        },
        "id": "2ea14d1e",
        "outputId": "34a5c496-7202-47ed-ffed-a93daf2c17c1"
      },
      "outputs": [
        {
          "output_type": "execute_result",
          "data": {
            "text/plain": [
              "((8000, 10), (2000, 10), (8000,), (2000,))"
            ]
          },
          "metadata": {},
          "execution_count": 2
        }
      ],
      "source": [
        "from sklearn.model_selection import train_test_split\n",
        "\n",
        "x = df.drop('y', axis=1).values\n",
        "y = df['y'].values\n",
        "\n",
        "x_train, x_test, y_train, y_test = train_test_split(x, y, test_size=0.2, random_state=42, stratify=y)\n",
        "x_train.shape, x_test.shape, y_train.shape, y_test.shape"
      ]
    },
    {
      "cell_type": "markdown",
      "id": "df030462",
      "metadata": {
        "id": "df030462"
      },
      "source": [
        "# Membuat Arsitektur Model"
      ]
    },
    {
      "cell_type": "code",
      "execution_count": null,
      "id": "c7b0c846",
      "metadata": {
        "id": "c7b0c846"
      },
      "outputs": [],
      "source": [
        "from keras.models import Sequential\n",
        "from keras.layers import Dense\n",
        "\n",
        "model = Sequential()\n",
        "model.add(Dense(32, input_dim=10, activation='relu'))\n",
        "model.add(Dense(16, activation='relu'))\n",
        "model.add(Dense(8, activation='relu'))\n",
        "model.add(Dense(4, activation='relu'))\n",
        "model.add(Dense(2, activation='relu'))\n",
        "model.add(Dense(1, activation='sigmoid'))"
      ]
    },
    {
      "cell_type": "markdown",
      "id": "283f98eb",
      "metadata": {
        "id": "283f98eb"
      },
      "source": [
        "Kemudian mari kita siapkan JST dengan susunan `32-16-8-4-2` dan `1`. Perhatikan, pada layer terakhir kita beri nilai `Dense`-nya `1` dengan activation `sigmoid`."
      ]
    },
    {
      "cell_type": "markdown",
      "id": "9f988cc1",
      "metadata": {
        "id": "9f988cc1"
      },
      "source": [
        "# Compile Model"
      ]
    },
    {
      "cell_type": "code",
      "execution_count": null,
      "id": "f6288a83",
      "metadata": {
        "colab": {
          "base_uri": "https://localhost:8080/"
        },
        "id": "f6288a83",
        "outputId": "c36e9503-c5f2-4d4f-d97c-21a9892c86a0"
      },
      "outputs": [
        {
          "output_type": "stream",
          "name": "stdout",
          "text": [
            "Model: \"sequential\"\n",
            "_________________________________________________________________\n",
            " Layer (type)                Output Shape              Param #   \n",
            "=================================================================\n",
            " dense (Dense)               (None, 32)                352       \n",
            "                                                                 \n",
            " dense_1 (Dense)             (None, 16)                528       \n",
            "                                                                 \n",
            " dense_2 (Dense)             (None, 8)                 136       \n",
            "                                                                 \n",
            " dense_3 (Dense)             (None, 4)                 36        \n",
            "                                                                 \n",
            " dense_4 (Dense)             (None, 2)                 10        \n",
            "                                                                 \n",
            " dense_5 (Dense)             (None, 1)                 3         \n",
            "                                                                 \n",
            "=================================================================\n",
            "Total params: 1065 (4.16 KB)\n",
            "Trainable params: 1065 (4.16 KB)\n",
            "Non-trainable params: 0 (0.00 Byte)\n",
            "_________________________________________________________________\n"
          ]
        }
      ],
      "source": [
        "model.compile(loss='binary_crossentropy', optimizer='adam', metrics=['accuracy'])\n",
        "model.summary()"
      ]
    },
    {
      "cell_type": "markdown",
      "id": "d640eb39",
      "metadata": {
        "id": "d640eb39"
      },
      "source": [
        "Untuk kasus klasifikasi biner, kita bisa pergunakan `loss`-nya `binary_crossentropy`. Kemudian, selain `loss`, pada praktikum kali ini kita tambahkan satu lagi variabel `metrics` dengan isian `'accuracy'`, untuk mengetahui seberapa akurat otak kita."
      ]
    },
    {
      "cell_type": "markdown",
      "id": "8370a549",
      "metadata": {
        "id": "8370a549"
      },
      "source": [
        "# Training Model"
      ]
    },
    {
      "cell_type": "code",
      "execution_count": null,
      "id": "c2f98b32",
      "metadata": {
        "colab": {
          "base_uri": "https://localhost:8080/"
        },
        "id": "c2f98b32",
        "outputId": "737c15fb-a0fe-4ad4-ec9a-2e53683e12f9"
      },
      "outputs": [
        {
          "output_type": "stream",
          "name": "stdout",
          "text": [
            "Epoch 1/100\n",
            "25/25 [==============================] - 2s 12ms/step - loss: 0.6916 - accuracy: 0.5494 - val_loss: 0.6092 - val_accuracy: 0.7119\n",
            "Epoch 2/100\n",
            "25/25 [==============================] - 0s 3ms/step - loss: 0.5717 - accuracy: 0.7734 - val_loss: 0.5150 - val_accuracy: 0.8481\n",
            "Epoch 3/100\n",
            "25/25 [==============================] - 0s 3ms/step - loss: 0.4865 - accuracy: 0.8689 - val_loss: 0.4461 - val_accuracy: 0.8831\n",
            "Epoch 4/100\n",
            "25/25 [==============================] - 0s 4ms/step - loss: 0.4191 - accuracy: 0.8950 - val_loss: 0.3859 - val_accuracy: 0.8931\n",
            "Epoch 5/100\n",
            "25/25 [==============================] - 0s 3ms/step - loss: 0.3536 - accuracy: 0.9064 - val_loss: 0.3297 - val_accuracy: 0.8950\n",
            "Epoch 6/100\n",
            "25/25 [==============================] - 0s 4ms/step - loss: 0.2950 - accuracy: 0.9137 - val_loss: 0.2928 - val_accuracy: 0.9000\n",
            "Epoch 7/100\n",
            "25/25 [==============================] - 0s 4ms/step - loss: 0.2586 - accuracy: 0.9202 - val_loss: 0.2791 - val_accuracy: 0.9056\n",
            "Epoch 8/100\n",
            "25/25 [==============================] - 0s 4ms/step - loss: 0.2420 - accuracy: 0.9227 - val_loss: 0.2720 - val_accuracy: 0.9131\n",
            "Epoch 9/100\n",
            "25/25 [==============================] - 0s 4ms/step - loss: 0.2323 - accuracy: 0.9272 - val_loss: 0.2684 - val_accuracy: 0.9156\n",
            "Epoch 10/100\n",
            "25/25 [==============================] - 0s 3ms/step - loss: 0.2259 - accuracy: 0.9280 - val_loss: 0.2652 - val_accuracy: 0.9144\n",
            "Epoch 11/100\n",
            "25/25 [==============================] - 0s 4ms/step - loss: 0.2206 - accuracy: 0.9305 - val_loss: 0.2623 - val_accuracy: 0.9137\n",
            "Epoch 12/100\n",
            "25/25 [==============================] - 0s 4ms/step - loss: 0.2171 - accuracy: 0.9322 - val_loss: 0.2590 - val_accuracy: 0.9162\n",
            "Epoch 13/100\n",
            "25/25 [==============================] - 0s 3ms/step - loss: 0.2131 - accuracy: 0.9320 - val_loss: 0.2576 - val_accuracy: 0.9175\n",
            "Epoch 14/100\n",
            "25/25 [==============================] - 0s 3ms/step - loss: 0.2102 - accuracy: 0.9347 - val_loss: 0.2540 - val_accuracy: 0.9187\n",
            "Epoch 15/100\n",
            "25/25 [==============================] - 0s 4ms/step - loss: 0.2063 - accuracy: 0.9364 - val_loss: 0.2532 - val_accuracy: 0.9212\n",
            "Epoch 16/100\n",
            "25/25 [==============================] - 0s 3ms/step - loss: 0.2037 - accuracy: 0.9378 - val_loss: 0.2504 - val_accuracy: 0.9212\n",
            "Epoch 17/100\n",
            "25/25 [==============================] - 0s 4ms/step - loss: 0.2022 - accuracy: 0.9375 - val_loss: 0.2509 - val_accuracy: 0.9225\n",
            "Epoch 18/100\n",
            "25/25 [==============================] - 0s 5ms/step - loss: 0.1992 - accuracy: 0.9394 - val_loss: 0.2466 - val_accuracy: 0.9231\n",
            "Epoch 19/100\n",
            "25/25 [==============================] - 0s 4ms/step - loss: 0.1983 - accuracy: 0.9397 - val_loss: 0.2491 - val_accuracy: 0.9244\n",
            "Epoch 20/100\n",
            "25/25 [==============================] - 0s 5ms/step - loss: 0.1959 - accuracy: 0.9402 - val_loss: 0.2445 - val_accuracy: 0.9231\n",
            "Epoch 21/100\n",
            "25/25 [==============================] - 0s 3ms/step - loss: 0.1953 - accuracy: 0.9409 - val_loss: 0.2462 - val_accuracy: 0.9262\n",
            "Epoch 22/100\n",
            "25/25 [==============================] - 0s 3ms/step - loss: 0.1938 - accuracy: 0.9419 - val_loss: 0.2437 - val_accuracy: 0.9244\n",
            "Epoch 23/100\n",
            "25/25 [==============================] - 0s 4ms/step - loss: 0.1922 - accuracy: 0.9416 - val_loss: 0.2416 - val_accuracy: 0.9244\n",
            "Epoch 24/100\n",
            "25/25 [==============================] - 0s 4ms/step - loss: 0.1914 - accuracy: 0.9420 - val_loss: 0.2420 - val_accuracy: 0.9231\n",
            "Epoch 25/100\n",
            "25/25 [==============================] - 0s 4ms/step - loss: 0.1902 - accuracy: 0.9416 - val_loss: 0.2412 - val_accuracy: 0.9237\n",
            "Epoch 26/100\n",
            "25/25 [==============================] - 0s 3ms/step - loss: 0.1895 - accuracy: 0.9411 - val_loss: 0.2402 - val_accuracy: 0.9244\n",
            "Epoch 27/100\n",
            "25/25 [==============================] - 0s 3ms/step - loss: 0.1881 - accuracy: 0.9431 - val_loss: 0.2409 - val_accuracy: 0.9244\n",
            "Epoch 28/100\n",
            "25/25 [==============================] - 0s 4ms/step - loss: 0.1875 - accuracy: 0.9431 - val_loss: 0.2397 - val_accuracy: 0.9262\n",
            "Epoch 29/100\n",
            "25/25 [==============================] - 0s 4ms/step - loss: 0.1870 - accuracy: 0.9422 - val_loss: 0.2392 - val_accuracy: 0.9269\n",
            "Epoch 30/100\n",
            "25/25 [==============================] - 0s 4ms/step - loss: 0.1888 - accuracy: 0.9433 - val_loss: 0.2403 - val_accuracy: 0.9275\n",
            "Epoch 31/100\n",
            "25/25 [==============================] - 0s 5ms/step - loss: 0.1872 - accuracy: 0.9430 - val_loss: 0.2425 - val_accuracy: 0.9256\n",
            "Epoch 32/100\n",
            "25/25 [==============================] - 0s 5ms/step - loss: 0.1846 - accuracy: 0.9450 - val_loss: 0.2362 - val_accuracy: 0.9269\n",
            "Epoch 33/100\n",
            "25/25 [==============================] - 0s 5ms/step - loss: 0.1835 - accuracy: 0.9442 - val_loss: 0.2349 - val_accuracy: 0.9269\n",
            "Epoch 34/100\n",
            "25/25 [==============================] - 0s 5ms/step - loss: 0.1826 - accuracy: 0.9442 - val_loss: 0.2360 - val_accuracy: 0.9269\n",
            "Epoch 35/100\n",
            "25/25 [==============================] - 0s 5ms/step - loss: 0.1822 - accuracy: 0.9441 - val_loss: 0.2353 - val_accuracy: 0.9269\n",
            "Epoch 36/100\n",
            "25/25 [==============================] - 0s 5ms/step - loss: 0.1818 - accuracy: 0.9444 - val_loss: 0.2345 - val_accuracy: 0.9281\n",
            "Epoch 37/100\n",
            "25/25 [==============================] - 0s 4ms/step - loss: 0.1809 - accuracy: 0.9447 - val_loss: 0.2352 - val_accuracy: 0.9262\n",
            "Epoch 38/100\n",
            "25/25 [==============================] - 0s 4ms/step - loss: 0.1806 - accuracy: 0.9450 - val_loss: 0.2337 - val_accuracy: 0.9287\n",
            "Epoch 39/100\n",
            "25/25 [==============================] - 0s 5ms/step - loss: 0.1799 - accuracy: 0.9450 - val_loss: 0.2355 - val_accuracy: 0.9262\n",
            "Epoch 40/100\n",
            "25/25 [==============================] - 0s 4ms/step - loss: 0.1793 - accuracy: 0.9453 - val_loss: 0.2314 - val_accuracy: 0.9281\n",
            "Epoch 41/100\n",
            "25/25 [==============================] - 0s 4ms/step - loss: 0.1785 - accuracy: 0.9453 - val_loss: 0.2306 - val_accuracy: 0.9287\n",
            "Epoch 42/100\n",
            "25/25 [==============================] - 0s 4ms/step - loss: 0.1777 - accuracy: 0.9467 - val_loss: 0.2321 - val_accuracy: 0.9275\n",
            "Epoch 43/100\n",
            "25/25 [==============================] - 0s 5ms/step - loss: 0.1781 - accuracy: 0.9450 - val_loss: 0.2319 - val_accuracy: 0.9294\n",
            "Epoch 44/100\n",
            "25/25 [==============================] - 0s 5ms/step - loss: 0.1762 - accuracy: 0.9456 - val_loss: 0.2305 - val_accuracy: 0.9294\n",
            "Epoch 45/100\n",
            "25/25 [==============================] - 0s 5ms/step - loss: 0.1757 - accuracy: 0.9467 - val_loss: 0.2314 - val_accuracy: 0.9300\n",
            "Epoch 46/100\n",
            "25/25 [==============================] - 0s 5ms/step - loss: 0.1749 - accuracy: 0.9464 - val_loss: 0.2314 - val_accuracy: 0.9294\n",
            "Epoch 47/100\n",
            "25/25 [==============================] - 0s 5ms/step - loss: 0.1758 - accuracy: 0.9461 - val_loss: 0.2309 - val_accuracy: 0.9300\n",
            "Epoch 48/100\n",
            "25/25 [==============================] - 0s 5ms/step - loss: 0.1745 - accuracy: 0.9463 - val_loss: 0.2291 - val_accuracy: 0.9319\n",
            "Epoch 49/100\n",
            "25/25 [==============================] - 0s 6ms/step - loss: 0.1736 - accuracy: 0.9463 - val_loss: 0.2305 - val_accuracy: 0.9306\n",
            "Epoch 50/100\n",
            "25/25 [==============================] - 0s 5ms/step - loss: 0.1732 - accuracy: 0.9470 - val_loss: 0.2309 - val_accuracy: 0.9294\n",
            "Epoch 51/100\n",
            "25/25 [==============================] - 0s 5ms/step - loss: 0.1720 - accuracy: 0.9477 - val_loss: 0.2330 - val_accuracy: 0.9287\n",
            "Epoch 52/100\n",
            "25/25 [==============================] - 0s 5ms/step - loss: 0.1719 - accuracy: 0.9475 - val_loss: 0.2283 - val_accuracy: 0.9319\n",
            "Epoch 53/100\n",
            "25/25 [==============================] - 0s 5ms/step - loss: 0.1720 - accuracy: 0.9472 - val_loss: 0.2297 - val_accuracy: 0.9312\n",
            "Epoch 54/100\n",
            "25/25 [==============================] - 0s 5ms/step - loss: 0.1716 - accuracy: 0.9467 - val_loss: 0.2311 - val_accuracy: 0.9312\n",
            "Epoch 55/100\n",
            "25/25 [==============================] - 0s 5ms/step - loss: 0.1715 - accuracy: 0.9472 - val_loss: 0.2339 - val_accuracy: 0.9275\n",
            "Epoch 56/100\n",
            "25/25 [==============================] - 0s 3ms/step - loss: 0.1695 - accuracy: 0.9494 - val_loss: 0.2302 - val_accuracy: 0.9306\n",
            "Epoch 57/100\n",
            "25/25 [==============================] - 0s 4ms/step - loss: 0.1690 - accuracy: 0.9481 - val_loss: 0.2307 - val_accuracy: 0.9300\n",
            "Epoch 58/100\n",
            "25/25 [==============================] - 0s 4ms/step - loss: 0.1685 - accuracy: 0.9484 - val_loss: 0.2314 - val_accuracy: 0.9294\n",
            "Epoch 59/100\n",
            "25/25 [==============================] - 0s 4ms/step - loss: 0.1682 - accuracy: 0.9477 - val_loss: 0.2337 - val_accuracy: 0.9275\n",
            "Epoch 60/100\n",
            "25/25 [==============================] - 0s 4ms/step - loss: 0.1673 - accuracy: 0.9473 - val_loss: 0.2297 - val_accuracy: 0.9319\n",
            "Epoch 61/100\n",
            "25/25 [==============================] - 0s 4ms/step - loss: 0.1676 - accuracy: 0.9480 - val_loss: 0.2298 - val_accuracy: 0.9325\n",
            "Epoch 62/100\n",
            "25/25 [==============================] - 0s 4ms/step - loss: 0.1680 - accuracy: 0.9484 - val_loss: 0.2276 - val_accuracy: 0.9319\n",
            "Epoch 63/100\n",
            "25/25 [==============================] - 0s 4ms/step - loss: 0.1674 - accuracy: 0.9489 - val_loss: 0.2270 - val_accuracy: 0.9319\n",
            "Epoch 64/100\n",
            "25/25 [==============================] - 0s 3ms/step - loss: 0.1651 - accuracy: 0.9495 - val_loss: 0.2290 - val_accuracy: 0.9325\n",
            "Epoch 65/100\n",
            "25/25 [==============================] - 0s 3ms/step - loss: 0.1650 - accuracy: 0.9488 - val_loss: 0.2303 - val_accuracy: 0.9331\n",
            "Epoch 66/100\n",
            "25/25 [==============================] - 0s 4ms/step - loss: 0.1645 - accuracy: 0.9481 - val_loss: 0.2333 - val_accuracy: 0.9306\n",
            "Epoch 67/100\n",
            "25/25 [==============================] - 0s 4ms/step - loss: 0.1635 - accuracy: 0.9492 - val_loss: 0.2293 - val_accuracy: 0.9331\n",
            "Epoch 68/100\n",
            "25/25 [==============================] - 0s 4ms/step - loss: 0.1636 - accuracy: 0.9495 - val_loss: 0.2300 - val_accuracy: 0.9331\n",
            "Epoch 69/100\n",
            "25/25 [==============================] - 0s 4ms/step - loss: 0.1627 - accuracy: 0.9497 - val_loss: 0.2300 - val_accuracy: 0.9337\n",
            "Epoch 70/100\n",
            "25/25 [==============================] - 0s 4ms/step - loss: 0.1636 - accuracy: 0.9492 - val_loss: 0.2311 - val_accuracy: 0.9312\n",
            "Epoch 71/100\n",
            "25/25 [==============================] - 0s 4ms/step - loss: 0.1632 - accuracy: 0.9486 - val_loss: 0.2284 - val_accuracy: 0.9325\n",
            "Epoch 72/100\n",
            "25/25 [==============================] - 0s 3ms/step - loss: 0.1608 - accuracy: 0.9494 - val_loss: 0.2294 - val_accuracy: 0.9331\n",
            "Epoch 73/100\n",
            "25/25 [==============================] - 0s 3ms/step - loss: 0.1602 - accuracy: 0.9502 - val_loss: 0.2306 - val_accuracy: 0.9312\n",
            "Epoch 74/100\n",
            "25/25 [==============================] - 0s 4ms/step - loss: 0.1603 - accuracy: 0.9505 - val_loss: 0.2301 - val_accuracy: 0.9331\n",
            "Epoch 75/100\n",
            "25/25 [==============================] - 0s 3ms/step - loss: 0.1593 - accuracy: 0.9508 - val_loss: 0.2305 - val_accuracy: 0.9300\n",
            "Epoch 76/100\n",
            "25/25 [==============================] - 0s 4ms/step - loss: 0.1600 - accuracy: 0.9505 - val_loss: 0.2305 - val_accuracy: 0.9312\n",
            "Epoch 77/100\n",
            "25/25 [==============================] - 0s 3ms/step - loss: 0.1591 - accuracy: 0.9502 - val_loss: 0.2322 - val_accuracy: 0.9294\n",
            "Epoch 78/100\n",
            "25/25 [==============================] - 0s 3ms/step - loss: 0.1585 - accuracy: 0.9491 - val_loss: 0.2288 - val_accuracy: 0.9344\n",
            "Epoch 79/100\n",
            "25/25 [==============================] - 0s 3ms/step - loss: 0.1587 - accuracy: 0.9498 - val_loss: 0.2284 - val_accuracy: 0.9337\n",
            "Epoch 80/100\n",
            "25/25 [==============================] - 0s 3ms/step - loss: 0.1578 - accuracy: 0.9503 - val_loss: 0.2311 - val_accuracy: 0.9337\n",
            "Epoch 81/100\n",
            "25/25 [==============================] - 0s 3ms/step - loss: 0.1566 - accuracy: 0.9520 - val_loss: 0.2324 - val_accuracy: 0.9319\n",
            "Epoch 82/100\n",
            "25/25 [==============================] - 0s 4ms/step - loss: 0.1568 - accuracy: 0.9513 - val_loss: 0.2329 - val_accuracy: 0.9306\n",
            "Epoch 83/100\n",
            "25/25 [==============================] - 0s 3ms/step - loss: 0.1571 - accuracy: 0.9491 - val_loss: 0.2311 - val_accuracy: 0.9344\n",
            "Epoch 84/100\n",
            "25/25 [==============================] - 0s 4ms/step - loss: 0.1574 - accuracy: 0.9500 - val_loss: 0.2322 - val_accuracy: 0.9325\n",
            "Epoch 85/100\n",
            "25/25 [==============================] - 0s 4ms/step - loss: 0.1553 - accuracy: 0.9505 - val_loss: 0.2304 - val_accuracy: 0.9325\n",
            "Epoch 86/100\n",
            "25/25 [==============================] - 0s 3ms/step - loss: 0.1548 - accuracy: 0.9511 - val_loss: 0.2339 - val_accuracy: 0.9319\n",
            "Epoch 87/100\n",
            "25/25 [==============================] - 0s 4ms/step - loss: 0.1553 - accuracy: 0.9500 - val_loss: 0.2314 - val_accuracy: 0.9331\n",
            "Epoch 88/100\n",
            "25/25 [==============================] - 0s 4ms/step - loss: 0.1543 - accuracy: 0.9517 - val_loss: 0.2324 - val_accuracy: 0.9312\n",
            "Epoch 89/100\n",
            "25/25 [==============================] - 0s 4ms/step - loss: 0.1541 - accuracy: 0.9514 - val_loss: 0.2313 - val_accuracy: 0.9325\n",
            "Epoch 90/100\n",
            "25/25 [==============================] - 0s 3ms/step - loss: 0.1540 - accuracy: 0.9511 - val_loss: 0.2329 - val_accuracy: 0.9312\n",
            "Epoch 91/100\n",
            "25/25 [==============================] - 0s 4ms/step - loss: 0.1532 - accuracy: 0.9520 - val_loss: 0.2345 - val_accuracy: 0.9306\n",
            "Epoch 92/100\n",
            "25/25 [==============================] - 0s 3ms/step - loss: 0.1537 - accuracy: 0.9509 - val_loss: 0.2393 - val_accuracy: 0.9287\n",
            "Epoch 93/100\n",
            "25/25 [==============================] - 0s 4ms/step - loss: 0.1547 - accuracy: 0.9505 - val_loss: 0.2332 - val_accuracy: 0.9319\n",
            "Epoch 94/100\n",
            "25/25 [==============================] - 0s 3ms/step - loss: 0.1519 - accuracy: 0.9523 - val_loss: 0.2310 - val_accuracy: 0.9306\n",
            "Epoch 95/100\n",
            "25/25 [==============================] - 0s 4ms/step - loss: 0.1518 - accuracy: 0.9527 - val_loss: 0.2331 - val_accuracy: 0.9319\n",
            "Epoch 96/100\n",
            "25/25 [==============================] - 0s 3ms/step - loss: 0.1515 - accuracy: 0.9522 - val_loss: 0.2313 - val_accuracy: 0.9312\n",
            "Epoch 97/100\n",
            "25/25 [==============================] - 0s 3ms/step - loss: 0.1511 - accuracy: 0.9519 - val_loss: 0.2359 - val_accuracy: 0.9306\n",
            "Epoch 98/100\n",
            "25/25 [==============================] - 0s 3ms/step - loss: 0.1508 - accuracy: 0.9514 - val_loss: 0.2316 - val_accuracy: 0.9319\n",
            "Epoch 99/100\n",
            "25/25 [==============================] - 0s 3ms/step - loss: 0.1497 - accuracy: 0.9527 - val_loss: 0.2342 - val_accuracy: 0.9319\n",
            "Epoch 100/100\n",
            "25/25 [==============================] - 0s 3ms/step - loss: 0.1496 - accuracy: 0.9530 - val_loss: 0.2354 - val_accuracy: 0.9312\n"
          ]
        }
      ],
      "source": [
        "catatan = model.fit(x_train, y_train, validation_split=0.2, batch_size=256, epochs=100)"
      ]
    },
    {
      "cell_type": "markdown",
      "id": "9e64d260",
      "metadata": {
        "id": "9e64d260"
      },
      "source": [
        "# Plot Performa Model"
      ]
    },
    {
      "cell_type": "code",
      "execution_count": null,
      "id": "6156c5e5",
      "metadata": {
        "colab": {
          "base_uri": "https://localhost:8080/",
          "height": 430
        },
        "id": "6156c5e5",
        "outputId": "ac482795-c864-4f13-fce5-8346328467f4"
      },
      "outputs": [
        {
          "output_type": "display_data",
          "data": {
            "text/plain": [
              "<Figure size 640x480 with 1 Axes>"
            ],
            "image/png": "[encoded data removed]"
          },
          "metadata": {}
        }
      ],
      "source": [
        "import matplotlib.pyplot as plt\n",
        "\n",
        "plt.plot(range(len(catatan.history['val_accuracy'])), catatan.history['val_accuracy'], label ='val_accuracy')\n",
        "plt.plot(range(len(catatan.history['accuracy'])), catatan.history['accuracy'], label ='accuracy')\n",
        "plt.legend()\n",
        "plt.show()"
      ]
    },
    {
      "cell_type": "markdown",
      "id": "d7bcc9a6",
      "metadata": {
        "id": "d7bcc9a6"
      },
      "source": [
        "# Evaluasi Model"
      ]
    },
    {
      "cell_type": "code",
      "execution_count": null,
      "id": "7553c1a0",
      "metadata": {
        "colab": {
          "base_uri": "https://localhost:8080/"
        },
        "id": "7553c1a0",
        "outputId": "065a0456-0fd6-4fd3-d748-3a634ee4c045"
      },
      "outputs": [
        {
          "output_type": "stream",
          "name": "stdout",
          "text": [
            "63/63 [==============================] - 0s 5ms/step - loss: 0.2245 - accuracy: 0.9255\n",
            "Accuracy Model :  0.9254999756813049\n"
          ]
        }
      ],
      "source": [
        "loss, acc = model.evaluate(x_test, y_test)\n",
        "print('Accuracy Model : ', acc)"
      ]
    },
    {
      "cell_type": "code",
      "execution_count": null,
      "id": "67853fe1",
      "metadata": {
        "id": "67853fe1"
      },
      "outputs": [],
      "source": [
        "# accuracy score\n",
        "from sklearn.metrics import"
      ]
    },
    {
      "cell_type": "markdown",
      "id": "f14cda01",
      "metadata": {
        "id": "f14cda01"
      },
      "source": [
        "# Prediksi Model"
      ]
    },
    {
      "cell_type": "code",
      "execution_count": null,
      "id": "4cd3c1d5",
      "metadata": {
        "colab": {
          "base_uri": "https://localhost:8080/"
        },
        "id": "4cd3c1d5",
        "outputId": "ed3b9332-d6bf-4566-effb-453876fcd2f9"
      },
      "outputs": [
        {
          "output_type": "stream",
          "name": "stdout",
          "text": [
            "63/63 [==============================] - 0s 2ms/step\n"
          ]
        },
        {
          "output_type": "execute_result",
          "data": {
            "text/plain": [
              "array([[0.02747014],\n",
              "       [0.9974952 ],\n",
              "       [0.05702415],\n",
              "       ...,\n",
              "       [0.9980031 ],\n",
              "       [0.9619714 ],\n",
              "       [0.9899623 ]], dtype=float32)"
            ]
          },
          "metadata": {},
          "execution_count": 10
        }
      ],
      "source": [
        "pred = model.predict(x_test)\n",
        "pred"
      ]
    },
    {
      "cell_type": "markdown",
      "id": "9eaf1413",
      "metadata": {
        "id": "9eaf1413"
      },
      "source": [
        "Untuk menormalisasikan ke dalam bentuk `0` dan `1`, maka kita perlu menambahkan baris kode sebagai berikut, yang intinya untuk segala nilai yang di atas $0.5$ akan kita rubah ke `kelas 1` dan untuk segala nilai yang di bawah $0.5$ akan kita rubah ke `kelas 0`."
      ]
    },
    {
      "cell_type": "code",
      "execution_count": null,
      "id": "a572bacf",
      "metadata": {
        "colab": {
          "base_uri": "https://localhost:8080/"
        },
        "id": "a572bacf",
        "outputId": "626005fe-0fab-4ebf-d828-a9b854098e79"
      },
      "outputs": [
        {
          "output_type": "execute_result",
          "data": {
            "text/plain": [
              "array([[0],\n",
              "       [1],\n",
              "       [0],\n",
              "       ...,\n",
              "       [1],\n",
              "       [1],\n",
              "       [1]])"
            ]
          },
          "metadata": {},
          "execution_count": 11
        }
      ],
      "source": [
        "pred = (pred > 0.5) *1\n",
        "pred"
      ]
    },
    {
      "cell_type": "markdown",
      "id": "d262ca0e",
      "metadata": {
        "id": "d262ca0e"
      },
      "source": [
        "# Evaluasi dengan Confusion Matrix"
      ]
    },
    {
      "cell_type": "code",
      "execution_count": null,
      "id": "381d28db",
      "metadata": {
        "colab": {
          "base_uri": "https://localhost:8080/"
        },
        "id": "381d28db",
        "outputId": "8c54a3f1-7d2c-42d1-dd49-3807e23cb4e3"
      },
      "outputs": [
        {
          "output_type": "stream",
          "name": "stdout",
          "text": [
            "[[915  66]\n",
            " [ 83 936]]\n"
          ]
        }
      ],
      "source": [
        "from sklearn.metrics import confusion_matrix\n",
        "print(confusion_matrix(pred, y_test))"
      ]
    }
  ],
  "metadata": {
    "kernelspec": {
      "display_name": "Python 3 (ipykernel)",
      "language": "python",
      "name": "python3"
    },
    "language_info": {
      "codemirror_mode": {
        "name": "ipython",
        "version": 3
      },
      "file_extension": ".py",
      "mimetype": "text/x-python",
      "name": "python",
      "nbconvert_exporter": "python",
      "pygments_lexer": "ipython3",
      "version": "3.8.3"
    },
    "colab": {
      "provenance": []
    }
  },
  "nbformat": 4,
  "nbformat_minor": 5
}